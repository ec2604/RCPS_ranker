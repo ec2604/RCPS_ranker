{
 "cells": [
  {
   "cell_type": "code",
   "execution_count": 4,
   "metadata": {
    "pycharm": {
     "name": "#%%\n"
    }
   },
   "outputs": [],
   "source": [
    "# !pip install sklearn\n",
    "# !pip install itertools\n",
    "# !pip install csv\n",
    "# !pip install scipy\n",
    "# !pip install numpy\n",
    "# !pip install pandas\n",
    "# !pip install -r https://raw.githubusercontent.com/Lasagne/Lasagne/v0.1/requirements.txt\n",
    "# !pip install Theano\n",
    "# !pip install Lasagne==0.1"
   ]
  },
  {
   "cell_type": "code",
   "execution_count": 5,
   "metadata": {
    "pycharm": {
     "name": "#%%\n"
    }
   },
   "outputs": [
    {
     "ename": "ImportError",
     "evalue": "cannot import name 'downsample' from 'theano.tensor.signal' (C:\\Users\\2noam\\AppData\\Roaming\\Python\\Python37\\site-packages\\theano\\tensor\\signal\\__init__.py)",
     "output_type": "error",
     "traceback": [
      "\u001B[1;31m---------------------------------------------------------------------------\u001B[0m",
      "\u001B[1;31mImportError\u001B[0m                               Traceback (most recent call last)",
      "\u001B[1;32m<ipython-input-5-b33d2e381727>\u001B[0m in \u001B[0;36m<module>\u001B[1;34m\u001B[0m\n\u001B[0;32m     15\u001B[0m \u001B[1;32mimport\u001B[0m \u001B[0mcsv\u001B[0m\u001B[1;33m\u001B[0m\u001B[1;33m\u001B[0m\u001B[0m\n\u001B[0;32m     16\u001B[0m \u001B[1;31m# from lasagne import layers\u001B[0m\u001B[1;33m\u001B[0m\u001B[1;33m\u001B[0m\u001B[1;33m\u001B[0m\u001B[0m\n\u001B[1;32m---> 17\u001B[1;33m \u001B[1;32mfrom\u001B[0m \u001B[0mlasagne\u001B[0m\u001B[1;33m.\u001B[0m\u001B[0mupdates\u001B[0m \u001B[1;32mimport\u001B[0m \u001B[0mnesterov_momentum\u001B[0m\u001B[1;33m\u001B[0m\u001B[1;33m\u001B[0m\u001B[0m\n\u001B[0m\u001B[0;32m     18\u001B[0m \u001B[1;32mfrom\u001B[0m \u001B[0mlasagne\u001B[0m\u001B[1;33m.\u001B[0m\u001B[0mnonlinearities\u001B[0m \u001B[1;32mimport\u001B[0m \u001B[0msoftmax\u001B[0m\u001B[1;33m\u001B[0m\u001B[1;33m\u001B[0m\u001B[0m\n\u001B[0;32m     19\u001B[0m \u001B[1;31m# from nolearn.lasagne import NeuralNet\u001B[0m\u001B[1;33m\u001B[0m\u001B[1;33m\u001B[0m\u001B[1;33m\u001B[0m\u001B[0m\n",
      "\u001B[1;32m~\\AppData\\Roaming\\Python\\Python37\\site-packages\\lasagne\\__init__.py\u001B[0m in \u001B[0;36m<module>\u001B[1;34m\u001B[0m\n\u001B[0;32m     17\u001B[0m \u001B[1;32mfrom\u001B[0m \u001B[1;33m.\u001B[0m \u001B[1;32mimport\u001B[0m \u001B[0mnonlinearities\u001B[0m\u001B[1;33m\u001B[0m\u001B[1;33m\u001B[0m\u001B[0m\n\u001B[0;32m     18\u001B[0m \u001B[1;32mfrom\u001B[0m \u001B[1;33m.\u001B[0m \u001B[1;32mimport\u001B[0m \u001B[0minit\u001B[0m\u001B[1;33m\u001B[0m\u001B[1;33m\u001B[0m\u001B[0m\n\u001B[1;32m---> 19\u001B[1;33m \u001B[1;32mfrom\u001B[0m \u001B[1;33m.\u001B[0m \u001B[1;32mimport\u001B[0m \u001B[0mlayers\u001B[0m\u001B[1;33m\u001B[0m\u001B[1;33m\u001B[0m\u001B[0m\n\u001B[0m\u001B[0;32m     20\u001B[0m \u001B[1;32mfrom\u001B[0m \u001B[1;33m.\u001B[0m \u001B[1;32mimport\u001B[0m \u001B[0mobjectives\u001B[0m\u001B[1;33m\u001B[0m\u001B[1;33m\u001B[0m\u001B[0m\n\u001B[0;32m     21\u001B[0m \u001B[1;32mfrom\u001B[0m \u001B[1;33m.\u001B[0m \u001B[1;32mimport\u001B[0m \u001B[0mrandom\u001B[0m\u001B[1;33m\u001B[0m\u001B[1;33m\u001B[0m\u001B[0m\n",
      "\u001B[1;32m~\\AppData\\Roaming\\Python\\Python37\\site-packages\\lasagne\\layers\\__init__.py\u001B[0m in \u001B[0;36m<module>\u001B[1;34m\u001B[0m\n\u001B[0;32m      5\u001B[0m \u001B[1;32mfrom\u001B[0m \u001B[1;33m.\u001B[0m\u001B[0mnoise\u001B[0m \u001B[1;32mimport\u001B[0m \u001B[1;33m*\u001B[0m\u001B[1;33m\u001B[0m\u001B[1;33m\u001B[0m\u001B[0m\n\u001B[0;32m      6\u001B[0m \u001B[1;32mfrom\u001B[0m \u001B[1;33m.\u001B[0m\u001B[0mconv\u001B[0m \u001B[1;32mimport\u001B[0m \u001B[1;33m*\u001B[0m\u001B[1;33m\u001B[0m\u001B[1;33m\u001B[0m\u001B[0m\n\u001B[1;32m----> 7\u001B[1;33m \u001B[1;32mfrom\u001B[0m \u001B[1;33m.\u001B[0m\u001B[0mpool\u001B[0m \u001B[1;32mimport\u001B[0m \u001B[1;33m*\u001B[0m\u001B[1;33m\u001B[0m\u001B[1;33m\u001B[0m\u001B[0m\n\u001B[0m\u001B[0;32m      8\u001B[0m \u001B[1;32mfrom\u001B[0m \u001B[1;33m.\u001B[0m\u001B[0mshape\u001B[0m \u001B[1;32mimport\u001B[0m \u001B[1;33m*\u001B[0m\u001B[1;33m\u001B[0m\u001B[1;33m\u001B[0m\u001B[0m\n\u001B[0;32m      9\u001B[0m \u001B[1;32mfrom\u001B[0m \u001B[1;33m.\u001B[0m\u001B[0mmerge\u001B[0m \u001B[1;32mimport\u001B[0m \u001B[1;33m*\u001B[0m\u001B[1;33m\u001B[0m\u001B[1;33m\u001B[0m\u001B[0m\n",
      "\u001B[1;32m~\\AppData\\Roaming\\Python\\Python37\\site-packages\\lasagne\\layers\\pool.py\u001B[0m in \u001B[0;36m<module>\u001B[1;34m\u001B[0m\n\u001B[0;32m      4\u001B[0m \u001B[1;32mfrom\u001B[0m \u001B[1;33m.\u001B[0m\u001B[1;33m.\u001B[0m\u001B[0mutils\u001B[0m \u001B[1;32mimport\u001B[0m \u001B[0mas_tuple\u001B[0m\u001B[1;33m\u001B[0m\u001B[1;33m\u001B[0m\u001B[0m\n\u001B[0;32m      5\u001B[0m \u001B[1;33m\u001B[0m\u001B[0m\n\u001B[1;32m----> 6\u001B[1;33m \u001B[1;32mfrom\u001B[0m \u001B[0mtheano\u001B[0m\u001B[1;33m.\u001B[0m\u001B[0mtensor\u001B[0m\u001B[1;33m.\u001B[0m\u001B[0msignal\u001B[0m \u001B[1;32mimport\u001B[0m \u001B[0mdownsample\u001B[0m\u001B[1;33m\u001B[0m\u001B[1;33m\u001B[0m\u001B[0m\n\u001B[0m\u001B[0;32m      7\u001B[0m \u001B[1;33m\u001B[0m\u001B[0m\n\u001B[0;32m      8\u001B[0m \u001B[1;33m\u001B[0m\u001B[0m\n",
      "\u001B[1;31mImportError\u001B[0m: cannot import name 'downsample' from 'theano.tensor.signal' (C:\\Users\\2noam\\AppData\\Roaming\\Python\\Python37\\site-packages\\theano\\tensor\\signal\\__init__.py)"
     ]
    }
   ],
   "source": [
    "import sys\n",
    "sys.path.insert(0, '../lib')  # noqa\n",
    "import numpy as np\n",
    "import pandas as pd\n",
    "from sklearn.model_selection import train_test_split\n",
    "from sklearn.metrics import mean_squared_error\n",
    "from sklearn.linear_model import LogisticRegression\n",
    "import pdb\n",
    "from sklearn.metrics import *\n",
    "%matplotlib inline\n",
    "import matplotlib.pyplot as plt\n",
    "from sklearn import preprocessing\n",
    "from sklearn.preprocessing import StandardScaler\n",
    "import itertools\n",
    "import csv\n",
    "# from lasagne import layers\n",
    "from lasagne.updates import nesterov_momentum\n",
    "from lasagne.nonlinearities import softmax\n",
    "# from nolearn.lasagne import NeuralNet\n",
    "# from greedy_order import *"
   ]
  },
  {
   "cell_type": "markdown",
   "metadata": {
    "pycharm": {
     "name": "#%% md\n"
    }
   },
   "source": [
    "# Load dataset"
   ]
  },
  {
   "cell_type": "code",
   "execution_count": 6,
   "metadata": {
    "pycharm": {
     "name": "#%%\n"
    }
   },
   "outputs": [],
   "source": [
    "genres_data = pd.read_csv(\n",
    "    'movielens-dataset/u.genre', \n",
    "    sep = '|', \n",
    "    encoding = \"ISO-8859-1\", \n",
    "    header = None, \n",
    "    names=['name', 'id']\n",
    ")"
   ]
  },
  {
   "cell_type": "code",
   "execution_count": 7,
   "metadata": {
    "pycharm": {
     "name": "#%%\n"
    }
   },
   "outputs": [],
   "source": [
    "movie_data_columns = np.append(\n",
    "    ['movie_id', 'title', 'release_date', 'video_release_date', 'url'], \n",
    "    genres_data['name'].values\n",
    ")"
   ]
  },
  {
   "cell_type": "code",
   "execution_count": 8,
   "metadata": {
    "pycharm": {
     "name": "#%%\n"
    }
   },
   "outputs": [],
   "source": [
    "movie_data = pd.read_csv(\n",
    "    'movielens-dataset/u.item', \n",
    "    sep = '|', \n",
    "    encoding = \"ISO-8859-1\", \n",
    "    header = None, \n",
    "    names = movie_data_columns,\n",
    "    index_col = 'movie_id'\n",
    ")"
   ]
  },
  {
   "cell_type": "code",
   "execution_count": 9,
   "metadata": {
    "pycharm": {
     "name": "#%%\n"
    }
   },
   "outputs": [
    {
     "data": {
      "text/plain": "                      title release_date  unknown  Action  Adventure  \\\nmovie_id                                                               \n1          Toy Story (1995)   1995-01-01        0       0          0   \n2          GoldenEye (1995)   1995-01-01        0       1          1   \n3         Four Rooms (1995)   1995-01-01        0       0          0   \n4         Get Shorty (1995)   1995-01-01        0       1          0   \n5            Copycat (1995)   1995-01-01        0       0          0   \n\n          Animation  Children's  Comedy  Crime  Documentary  ...  Fantasy  \\\nmovie_id                                                     ...            \n1                 1           1       1      0            0  ...        0   \n2                 0           0       0      0            0  ...        0   \n3                 0           0       0      0            0  ...        0   \n4                 0           0       1      0            0  ...        0   \n5                 0           0       0      1            0  ...        0   \n\n          Film-Noir  Horror  Musical  Mystery  Romance  Sci-Fi  Thriller  War  \\\nmovie_id                                                                        \n1                 0       0        0        0        0       0         0    0   \n2                 0       0        0        0        0       0         1    0   \n3                 0       0        0        0        0       0         1    0   \n4                 0       0        0        0        0       0         0    0   \n5                 0       0        0        0        0       0         1    0   \n\n          Western  \nmovie_id           \n1               0  \n2               0  \n3               0  \n4               0  \n5               0  \n\n[5 rows x 21 columns]",
      "text/html": "<div>\n<style scoped>\n    .dataframe tbody tr th:only-of-type {\n        vertical-align: middle;\n    }\n\n    .dataframe tbody tr th {\n        vertical-align: top;\n    }\n\n    .dataframe thead th {\n        text-align: right;\n    }\n</style>\n<table border=\"1\" class=\"dataframe\">\n  <thead>\n    <tr style=\"text-align: right;\">\n      <th></th>\n      <th>title</th>\n      <th>release_date</th>\n      <th>unknown</th>\n      <th>Action</th>\n      <th>Adventure</th>\n      <th>Animation</th>\n      <th>Children's</th>\n      <th>Comedy</th>\n      <th>Crime</th>\n      <th>Documentary</th>\n      <th>...</th>\n      <th>Fantasy</th>\n      <th>Film-Noir</th>\n      <th>Horror</th>\n      <th>Musical</th>\n      <th>Mystery</th>\n      <th>Romance</th>\n      <th>Sci-Fi</th>\n      <th>Thriller</th>\n      <th>War</th>\n      <th>Western</th>\n    </tr>\n    <tr>\n      <th>movie_id</th>\n      <th></th>\n      <th></th>\n      <th></th>\n      <th></th>\n      <th></th>\n      <th></th>\n      <th></th>\n      <th></th>\n      <th></th>\n      <th></th>\n      <th></th>\n      <th></th>\n      <th></th>\n      <th></th>\n      <th></th>\n      <th></th>\n      <th></th>\n      <th></th>\n      <th></th>\n      <th></th>\n      <th></th>\n    </tr>\n  </thead>\n  <tbody>\n    <tr>\n      <th>1</th>\n      <td>Toy Story (1995)</td>\n      <td>1995-01-01</td>\n      <td>0</td>\n      <td>0</td>\n      <td>0</td>\n      <td>1</td>\n      <td>1</td>\n      <td>1</td>\n      <td>0</td>\n      <td>0</td>\n      <td>...</td>\n      <td>0</td>\n      <td>0</td>\n      <td>0</td>\n      <td>0</td>\n      <td>0</td>\n      <td>0</td>\n      <td>0</td>\n      <td>0</td>\n      <td>0</td>\n      <td>0</td>\n    </tr>\n    <tr>\n      <th>2</th>\n      <td>GoldenEye (1995)</td>\n      <td>1995-01-01</td>\n      <td>0</td>\n      <td>1</td>\n      <td>1</td>\n      <td>0</td>\n      <td>0</td>\n      <td>0</td>\n      <td>0</td>\n      <td>0</td>\n      <td>...</td>\n      <td>0</td>\n      <td>0</td>\n      <td>0</td>\n      <td>0</td>\n      <td>0</td>\n      <td>0</td>\n      <td>0</td>\n      <td>1</td>\n      <td>0</td>\n      <td>0</td>\n    </tr>\n    <tr>\n      <th>3</th>\n      <td>Four Rooms (1995)</td>\n      <td>1995-01-01</td>\n      <td>0</td>\n      <td>0</td>\n      <td>0</td>\n      <td>0</td>\n      <td>0</td>\n      <td>0</td>\n      <td>0</td>\n      <td>0</td>\n      <td>...</td>\n      <td>0</td>\n      <td>0</td>\n      <td>0</td>\n      <td>0</td>\n      <td>0</td>\n      <td>0</td>\n      <td>0</td>\n      <td>1</td>\n      <td>0</td>\n      <td>0</td>\n    </tr>\n    <tr>\n      <th>4</th>\n      <td>Get Shorty (1995)</td>\n      <td>1995-01-01</td>\n      <td>0</td>\n      <td>1</td>\n      <td>0</td>\n      <td>0</td>\n      <td>0</td>\n      <td>1</td>\n      <td>0</td>\n      <td>0</td>\n      <td>...</td>\n      <td>0</td>\n      <td>0</td>\n      <td>0</td>\n      <td>0</td>\n      <td>0</td>\n      <td>0</td>\n      <td>0</td>\n      <td>0</td>\n      <td>0</td>\n      <td>0</td>\n    </tr>\n    <tr>\n      <th>5</th>\n      <td>Copycat (1995)</td>\n      <td>1995-01-01</td>\n      <td>0</td>\n      <td>0</td>\n      <td>0</td>\n      <td>0</td>\n      <td>0</td>\n      <td>0</td>\n      <td>1</td>\n      <td>0</td>\n      <td>...</td>\n      <td>0</td>\n      <td>0</td>\n      <td>0</td>\n      <td>0</td>\n      <td>0</td>\n      <td>0</td>\n      <td>0</td>\n      <td>1</td>\n      <td>0</td>\n      <td>0</td>\n    </tr>\n  </tbody>\n</table>\n<p>5 rows × 21 columns</p>\n</div>"
     },
     "execution_count": 9,
     "metadata": {},
     "output_type": "execute_result"
    }
   ],
   "source": [
    "selected_columns = np.append(['title', 'release_date'], genres_data['name'].values)\n",
    "movie_data = movie_data[selected_columns]\n",
    "movie_data['release_date'] = pd.to_datetime(movie_data['release_date'])\n",
    "\n",
    "movie_data.head()"
   ]
  },
  {
   "cell_type": "code",
   "execution_count": 10,
   "metadata": {
    "pycharm": {
     "name": "#%%\n"
    }
   },
   "outputs": [],
   "source": [
    "ratings_data = pd.read_csv(\n",
    "    'movielens-dataset/u.data', \n",
    "    sep = '\\t', \n",
    "    encoding = \"ISO-8859-1\", \n",
    "    header = None, \n",
    "    names=['user_id', 'movie_id', 'rating', 'timestamp']\n",
    ")"
   ]
  },
  {
   "cell_type": "code",
   "execution_count": 11,
   "metadata": {
    "pycharm": {
     "name": "#%%\n"
    }
   },
   "outputs": [],
   "source": [
    "movie_data['ratings_average'] = ratings_data.groupby(['movie_id'])['rating'].mean()\n",
    "movie_data['ratings_count'] = ratings_data.groupby(['movie_id'])['rating'].count()"
   ]
  },
  {
   "cell_type": "code",
   "execution_count": 12,
   "metadata": {
    "pycharm": {
     "name": "#%%\n"
    }
   },
   "outputs": [
    {
     "data": {
      "text/plain": "                      title  ratings_average  ratings_count\nmovie_id                                                   \n1          Toy Story (1995)         3.878319            452\n2          GoldenEye (1995)         3.206107            131\n3         Four Rooms (1995)         3.033333             90\n4         Get Shorty (1995)         3.550239            209\n5            Copycat (1995)         3.302326             86",
      "text/html": "<div>\n<style scoped>\n    .dataframe tbody tr th:only-of-type {\n        vertical-align: middle;\n    }\n\n    .dataframe tbody tr th {\n        vertical-align: top;\n    }\n\n    .dataframe thead th {\n        text-align: right;\n    }\n</style>\n<table border=\"1\" class=\"dataframe\">\n  <thead>\n    <tr style=\"text-align: right;\">\n      <th></th>\n      <th>title</th>\n      <th>ratings_average</th>\n      <th>ratings_count</th>\n    </tr>\n    <tr>\n      <th>movie_id</th>\n      <th></th>\n      <th></th>\n      <th></th>\n    </tr>\n  </thead>\n  <tbody>\n    <tr>\n      <th>1</th>\n      <td>Toy Story (1995)</td>\n      <td>3.878319</td>\n      <td>452</td>\n    </tr>\n    <tr>\n      <th>2</th>\n      <td>GoldenEye (1995)</td>\n      <td>3.206107</td>\n      <td>131</td>\n    </tr>\n    <tr>\n      <th>3</th>\n      <td>Four Rooms (1995)</td>\n      <td>3.033333</td>\n      <td>90</td>\n    </tr>\n    <tr>\n      <th>4</th>\n      <td>Get Shorty (1995)</td>\n      <td>3.550239</td>\n      <td>209</td>\n    </tr>\n    <tr>\n      <th>5</th>\n      <td>Copycat (1995)</td>\n      <td>3.302326</td>\n      <td>86</td>\n    </tr>\n  </tbody>\n</table>\n</div>"
     },
     "execution_count": 12,
     "metadata": {},
     "output_type": "execute_result"
    }
   ],
   "source": [
    "movie_data[['title', 'ratings_average', 'ratings_count']].head()"
   ]
  },
  {
   "cell_type": "markdown",
   "metadata": {
    "pycharm": {
     "name": "#%% md\n"
    }
   },
   "source": [
    "# Remove null values"
   ]
  },
  {
   "cell_type": "code",
   "execution_count": 13,
   "metadata": {
    "pycharm": {
     "name": "#%%\n"
    }
   },
   "outputs": [
    {
     "data": {
      "text/plain": "title           False\nrelease_date     True\nunknown         False\nAction          False\nAdventure       False\nAnimation       False\nChildren's      False\nComedy          False\nCrime           False\nDocumentary     False\nDrama           False\nFantasy         False\nFilm-Noir       False\nHorror          False\nMusical         False\nMystery         False\nRomance         False\nSci-Fi          False\nThriller        False\nWar             False\nWestern         False\ndtype: bool"
     },
     "execution_count": 13,
     "metadata": {},
     "output_type": "execute_result"
    }
   ],
   "source": [
    "movie_data[selected_columns].isnull().any()"
   ]
  },
  {
   "cell_type": "code",
   "execution_count": 14,
   "metadata": {
    "pycharm": {
     "name": "#%%\n"
    }
   },
   "outputs": [],
   "source": [
    "null_release_dates = movie_data[movie_data['release_date'].isnull()]\n",
    "assert null_release_dates.shape[0] == 1"
   ]
  },
  {
   "cell_type": "code",
   "execution_count": 15,
   "metadata": {
    "pycharm": {
     "name": "#%%\n"
    }
   },
   "outputs": [],
   "source": [
    "movie_data = movie_data.drop(null_release_dates.index.values)\n",
    "assert movie_data[selected_columns].isnull().any().any() == False"
   ]
  },
  {
   "cell_type": "markdown",
   "metadata": {
    "pycharm": {
     "name": "#%% md\n"
    }
   },
   "source": [
    "# Check data types"
   ]
  },
  {
   "cell_type": "code",
   "execution_count": 16,
   "metadata": {
    "pycharm": {
     "name": "#%%\n"
    }
   },
   "outputs": [
    {
     "data": {
      "text/plain": "title                      object\nrelease_date       datetime64[ns]\nunknown                     int64\nAction                      int64\nAdventure                   int64\nAnimation                   int64\nChildren's                  int64\nComedy                      int64\nCrime                       int64\nDocumentary                 int64\nDrama                       int64\nFantasy                     int64\nFilm-Noir                   int64\nHorror                      int64\nMusical                     int64\nMystery                     int64\nRomance                     int64\nSci-Fi                      int64\nThriller                    int64\nWar                         int64\nWestern                     int64\nratings_average           float64\nratings_count               int64\ndtype: object"
     },
     "execution_count": 16,
     "metadata": {},
     "output_type": "execute_result"
    }
   ],
   "source": [
    "movie_data.dtypes"
   ]
  },
  {
   "cell_type": "markdown",
   "metadata": {
    "pycharm": {
     "name": "#%% md\n"
    }
   },
   "source": [
    "# Compute the artificial \"price\" and \"buy_probability\" attributes"
   ]
  },
  {
   "cell_type": "code",
   "execution_count": 17,
   "metadata": {
    "pycharm": {
     "name": "#%%\n"
    }
   },
   "outputs": [],
   "source": [
    "from datetime import datetime\n",
    "import dateutil"
   ]
  },
  {
   "cell_type": "code",
   "execution_count": 18,
   "metadata": {
    "pycharm": {
     "name": "#%%\n"
    }
   },
   "outputs": [
    {
     "data": {
      "text/plain": "                      title  price  ratings_average  ratings_count\nmovie_id                                                          \n1          Toy Story (1995)    7.0         3.878319            452\n2          GoldenEye (1995)    5.0         3.206107            131\n3         Four Rooms (1995)    5.0         3.033333             90\n4         Get Shorty (1995)    6.0         3.550239            209\n5            Copycat (1995)    5.0         3.302326             86",
      "text/html": "<div>\n<style scoped>\n    .dataframe tbody tr th:only-of-type {\n        vertical-align: middle;\n    }\n\n    .dataframe tbody tr th {\n        vertical-align: top;\n    }\n\n    .dataframe thead th {\n        text-align: right;\n    }\n</style>\n<table border=\"1\" class=\"dataframe\">\n  <thead>\n    <tr style=\"text-align: right;\">\n      <th></th>\n      <th>title</th>\n      <th>price</th>\n      <th>ratings_average</th>\n      <th>ratings_count</th>\n    </tr>\n    <tr>\n      <th>movie_id</th>\n      <th></th>\n      <th></th>\n      <th></th>\n      <th></th>\n    </tr>\n  </thead>\n  <tbody>\n    <tr>\n      <th>1</th>\n      <td>Toy Story (1995)</td>\n      <td>7.0</td>\n      <td>3.878319</td>\n      <td>452</td>\n    </tr>\n    <tr>\n      <th>2</th>\n      <td>GoldenEye (1995)</td>\n      <td>5.0</td>\n      <td>3.206107</td>\n      <td>131</td>\n    </tr>\n    <tr>\n      <th>3</th>\n      <td>Four Rooms (1995)</td>\n      <td>5.0</td>\n      <td>3.033333</td>\n      <td>90</td>\n    </tr>\n    <tr>\n      <th>4</th>\n      <td>Get Shorty (1995)</td>\n      <td>6.0</td>\n      <td>3.550239</td>\n      <td>209</td>\n    </tr>\n    <tr>\n      <th>5</th>\n      <td>Copycat (1995)</td>\n      <td>5.0</td>\n      <td>3.302326</td>\n      <td>86</td>\n    </tr>\n  </tbody>\n</table>\n</div>"
     },
     "execution_count": 18,
     "metadata": {},
     "output_type": "execute_result"
    }
   ],
   "source": [
    "oldest_date = pd.to_datetime(movie_data['release_date']).min()\n",
    "most_recent_date = pd.to_datetime(movie_data['release_date']).max()\n",
    "normalised_age = (most_recent_date - pd.to_datetime(movie_data['release_date'])) / (most_recent_date - oldest_date)\n",
    "normalised_rating = (5 - movie_data['ratings_average']) / (5 - 1)\n",
    "\n",
    "movie_data['price'] = np.round((1 - normalised_rating) * (1 - normalised_age) * 10)\n",
    "movie_data[['title', 'price', 'ratings_average', 'ratings_count']].head()"
   ]
  },
  {
   "cell_type": "code",
   "execution_count": 19,
   "metadata": {
    "pycharm": {
     "name": "#%%\n"
    }
   },
   "outputs": [],
   "source": [
    "# one movie had title unknown, relesease data unknown, etc...\n",
    "movie_data = movie_data[movie_data['price'].notnull()]"
   ]
  },
  {
   "cell_type": "code",
   "execution_count": 20,
   "metadata": {
    "pycharm": {
     "name": "#%%\n"
    }
   },
   "outputs": [],
   "source": [
    "# the lower the price, the more likely I am going to buy\n",
    "movie_data['buy_probability'] = 1 - movie_data['price'] * 0.1"
   ]
  },
  {
   "cell_type": "markdown",
   "metadata": {
    "pycharm": {
     "name": "#%% md\n"
    }
   },
   "source": [
    "# The perfect ranking"
   ]
  },
  {
   "cell_type": "code",
   "execution_count": 21,
   "metadata": {
    "pycharm": {
     "name": "#%%\n"
    }
   },
   "outputs": [
    {
     "data": {
      "text/plain": "<Figure size 432x288 with 1 Axes>",
      "image/png": "[encoded data removed]"
     },
     "metadata": {
      "needs_background": "light"
     },
     "output_type": "display_data"
    }
   ],
   "source": [
    "plt.plot(movie_data['price'].values, movie_data['buy_probability'].values, 'ro') # ro = red circles\n",
    "plt.xlabel('price')\n",
    "plt.ylabel('buy_probability')\n",
    "plt.show()"
   ]
  },
  {
   "cell_type": "markdown",
   "metadata": {
    "pycharm": {
     "name": "#%% md\n"
    }
   },
   "source": [
    "## Genres distribution"
   ]
  },
  {
   "cell_type": "code",
   "execution_count": 22,
   "metadata": {
    "pycharm": {
     "name": "#%%\n"
    }
   },
   "outputs": [],
   "source": [
    "def plot_genres(movie_data):\n",
    "    genres_array = [(genre, movie_data[genre].sum()) for genre in genres_data['name'].values]\n",
    "    genres_names = list(map(lambda x: x[0], genres_array))\n",
    "    genres_count = list(map(lambda x: x[1], genres_array))\n",
    "\n",
    "    genres_df = pd.DataFrame({'name': genres_names, 'count': genres_count})\n",
    "    x = np.arange(len(genres_df['name'].values))\n",
    "    plt.bar(x, genres_df['count'].values)\n",
    "    plt.xticks(x, genres_df['name'].values, rotation='vertical')\n",
    "    plt.title(\"Genres distribution\")\n",
    "    \n",
    "def plot_years(movie_data):\n",
    "    years = movie_data['release_date'].values.astype('datetime64[Y]').astype(int) + 1970\n",
    "    plt.hist(years)\n",
    "    plt.title(\"Years distribution\")\n",
    "    \n",
    "def plot_ratings(movie_data):\n",
    "    movie_data['ratings_average'].hist()\n",
    "    plt.title(\"Ratings distribution\")\n",
    "    \n",
    "def plot_price(movie_data):\n",
    "    movie_data['price'].hist()\n",
    "    plt.title(\"Price distribution\")\n",
    "    \n",
    "def plot_ratings_count(movie_data):\n",
    "    movie_data['ratings_count'].hist()\n",
    "    plt.title(\"Ratings count\")\n",
    "    \n",
    "def buy_probability_distribution(movie_data):\n",
    "    movie_data['buy_probability'].hist(bins=11)\n",
    "    plt.title(\"Buy probability distribution\")"
   ]
  },
  {
   "cell_type": "code",
   "execution_count": 23,
   "metadata": {
    "pycharm": {
     "name": "#%%\n"
    }
   },
   "outputs": [],
   "source": [
    "def plot_distributions(movie_data):\n",
    "    fig = plt.figure(figsize=(8, 6)) \n",
    "\n",
    "    fig.add_subplot(3, 2, 1)\n",
    "    plot_genres(movie_data)\n",
    "\n",
    "    fig.add_subplot(3, 2, 2)\n",
    "    plot_years(movie_data)\n",
    "\n",
    "    fig.add_subplot(3, 2, 3)\n",
    "    plot_ratings(movie_data)\n",
    "\n",
    "    fig.add_subplot(3, 2, 4)\n",
    "    plot_price(movie_data)\n",
    "\n",
    "    fig.add_subplot(3, 2, 5)\n",
    "    plot_ratings_count(movie_data)\n",
    "\n",
    "    fig.add_subplot(3, 2, 6)\n",
    "    buy_probability_distribution(movie_data)\n",
    "\n",
    "    plt.tight_layout()"
   ]
  },
  {
   "cell_type": "code",
   "execution_count": 24,
   "metadata": {
    "pycharm": {
     "name": "#%%\n"
    }
   },
   "outputs": [
    {
     "data": {
      "text/plain": "<Figure size 576x432 with 6 Axes>",
      "image/png": "[encoded data removed]"
     },
     "metadata": {
      "needs_background": "light"
     },
     "output_type": "display_data"
    }
   ],
   "source": [
    "plot_distributions(movie_data)"
   ]
  },
  {
   "cell_type": "markdown",
   "metadata": {
    "pycharm": {
     "name": "#%% md\n"
    }
   },
   "source": [
    "# Events database functions"
   ]
  },
  {
   "cell_type": "code",
   "execution_count": 25,
   "metadata": {
    "pycharm": {
     "name": "#%%\n"
    }
   },
   "outputs": [],
   "source": [
    "# The users database\n",
    "class User:\n",
    "    def __init__(self, id):\n",
    "        self.id = id\n",
    "        self.positive = []\n",
    "        self.negative = []\n",
    "        \n",
    "    def add_positive(self, movie_id):\n",
    "        self.positive.append(movie_id)\n",
    "    \n",
    "    def add_negative(self, movie_id):\n",
    "        self.negative.append(movie_id)\n",
    "    \n",
    "    def get_positive(self):\n",
    "        return self.positive\n",
    "    \n",
    "    def get_negative(self):\n",
    "        return self.negative"
   ]
  },
  {
   "cell_type": "code",
   "execution_count": 26,
   "metadata": {
    "pycharm": {
     "name": "#%%\n"
    }
   },
   "outputs": [],
   "source": [
    "\n",
    "np.random.seed(1)\n",
    "\n",
    "class EventsGenerator:\n",
    "    NUM_OF_OPENED_MOVIES_PER_USER = 20\n",
    "    NUM_OF_USERS = 1000\n",
    "\n",
    "    def __init__(self, learning_data, buy_probability):\n",
    "        self.learning_data = learning_data\n",
    "        self.buy_probability = buy_probability\n",
    "        self.users = []\n",
    "        for id in range(1, self.NUM_OF_USERS):\n",
    "            self.users.append(User(id))\n",
    "        \n",
    "    def run(self, pairwise=False):\n",
    "        for user in self.users:\n",
    "            opened_movies = np.random.choice(self.learning_data.index.values, self.NUM_OF_OPENED_MOVIES_PER_USER)\n",
    "            self.__add_positives_and_negatives_to(user, opened_movies)\n",
    "\n",
    "        if pairwise:\n",
    "            return self.__build_pairwise_events_data()\n",
    "        else:\n",
    "            return self.__build_events_data()\n",
    "\n",
    "    def __add_positives_and_negatives_to(self, user, opened_movies):\n",
    "        for movie_id in opened_movies:\n",
    "            if np.random.binomial(1, self.buy_probability.loc[movie_id]): \n",
    "                user.add_positive(movie_id)\n",
    "            else:\n",
    "                user.add_negative(movie_id)\n",
    "                \n",
    "    def __build_events_data(self):\n",
    "        events_data = []\n",
    "        \n",
    "        for user in self.users:\n",
    "            for positive_id in user.get_positive():\n",
    "                tmp = learning_data.loc[positive_id].to_dict()\n",
    "                tmp['outcome'] = 1\n",
    "                events_data += [tmp]\n",
    "            \n",
    "            for negative_id in user.get_negative():\n",
    "                tmp = learning_data.loc[negative_id].to_dict()\n",
    "                tmp['outcome'] = 0\n",
    "                events_data += [tmp]\n",
    "                \n",
    "        return pd.DataFrame(events_data)\n",
    "    \n",
    "    def __build_pairwise_events_data(self):\n",
    "        events_data = []\n",
    "        \n",
    "        for i, user in enumerate(self.users):\n",
    "            print(\"{} of {}\".format(i, len(self.users)))\n",
    "            positives = user.get_positive()\n",
    "            negatives = user.get_negative()\n",
    "            \n",
    "            sample_size = min(len(positives), len(negatives))\n",
    "            \n",
    "            positives = np.random.choice(positives, sample_size)\n",
    "            negatives = np.random.choice(negatives, sample_size)\n",
    "            \n",
    "            # print(\"Adding {} events\".format(str(len(positives) * len(negatives) * 2)))\n",
    "            for positive in positives:\n",
    "                for negative in negatives:                    \n",
    "                    e1 = learning_data.loc[positive].values\n",
    "                    e2 = learning_data.loc[negative].values\n",
    "                    \n",
    "                    pos_neg_example = np.concatenate([e1, e2, [1]])\n",
    "                    neg_pos_example = np.concatenate([e2, e1, [0]])\n",
    "                    \n",
    "                    events_data.append(pos_neg_example)\n",
    "                    events_data.append(neg_pos_example)\n",
    "        \n",
    "        c1 = [ c + '_1' for c in learning_data.columns]\n",
    "        c2 = [ c + '_2' for c in learning_data.columns]\n",
    "        return pd.DataFrame(events_data, columns = np.concatenate([c1, c2, ['outcome']]))"
   ]
  },
  {
   "cell_type": "code",
   "execution_count": 27,
   "metadata": {
    "pycharm": {
     "name": "#%%\n"
    }
   },
   "outputs": [],
   "source": [
    "def build_learning_data_from(movie_data):\n",
    "    feature_columns = np.setdiff1d(movie_data.columns, np.array(['title', 'buy_probability']))\n",
    "    learning_data = movie_data.loc[:, feature_columns]\n",
    "    \n",
    "    scaler = StandardScaler()\n",
    "    learning_data.loc[:, ('price')] = scaler.fit_transform(learning_data[['price']])\n",
    "    learning_data['ratings_average'] = scaler.fit_transform(learning_data[['ratings_average']])\n",
    "    learning_data['ratings_count'] = scaler.fit_transform(learning_data[['ratings_count']])\n",
    "    learning_data['release_date'] = learning_data['release_date'].apply(lambda x: x.year)\n",
    "    learning_data['release_date'] = scaler.fit_transform(learning_data[['release_date']])\n",
    "    \n",
    "    return learning_data"
   ]
  },
  {
   "cell_type": "code",
   "execution_count": 28,
   "metadata": {
    "pycharm": {
     "name": "#%%\n"
    }
   },
   "outputs": [],
   "source": [
    "def plot_events_distribution(events_data):\n",
    "    events_data_sample = events_data.sample(frac=0.1)\n",
    "    negative_outcomes = events_data_sample[events_data_sample['outcome'] == 0.0]['price']\n",
    "    positive_outcomes = events_data_sample[events_data_sample['outcome'] == 1.0]['price']\n",
    "    \n",
    "    outcomes = np.array(list(zip(negative_outcomes.values, positive_outcomes.values)))\n",
    "    plt.hist(outcomes, bins=11, label = ['Negative', 'Positive'])\n",
    "    plt.legend()\n",
    "    plt.xlabel('price')\n",
    "    plt.show()"
   ]
  },
  {
   "cell_type": "code",
   "execution_count": 29,
   "metadata": {
    "pycharm": {
     "name": "#%%\n"
    }
   },
   "outputs": [],
   "source": [
    "def get_feature_columns_from(learning_data, pairwise=False):\n",
    "    if not pairwise:\n",
    "        return learning_data.columns.values\n",
    "    else:\n",
    "        f1 = [c + '_1' for c in learning_data.columns.values]\n",
    "        f2 = [c + '_2' for c in learning_data.columns.values]\n",
    "        f1.extend(f2)\n",
    "        return np.asarray(f1)"
   ]
  },
  {
   "cell_type": "code",
   "execution_count": 30,
   "metadata": {
    "pycharm": {
     "name": "#%%\n"
    }
   },
   "outputs": [],
   "source": [
    "def save_events_data(events_data, learning_data, tag, pairwise=False):\n",
    "    events_data = events_data.reindex(np.random.permutation(events_data.index))\n",
    "    events_data.to_csv('movie_events_' + tag + '.csv')\n",
    "    \n",
    "    if not pairwise:\n",
    "        df = pd.DataFrame(get_feature_columns_from(learning_data))\n",
    "        df.to_csv(\"feature_columns_\" + tag + \".csv\")\n",
    "    else:\n",
    "        df = pd.DataFrame(get_feature_columns_from(learning_data, pairwise=True))\n",
    "        df.to_csv(\"feature_columns_\" + tag + \".csv\")"
   ]
  },
  {
   "cell_type": "code",
   "execution_count": 31,
   "metadata": {
    "pycharm": {
     "name": "#%%\n"
    }
   },
   "outputs": [],
   "source": [
    "def load_events_data(tag):\n",
    "    events_data = pd.read_csv('movie_events_' + tag + '.csv')\n",
    "    tmp = pd.read_csv(\"feature_columns_\" + tag + \".csv\")\n",
    "    feature_columns = tmp['0'].values\n",
    "    \n",
    "    return [events_data, feature_columns]"
   ]
  },
  {
   "cell_type": "code",
   "execution_count": 43,
   "metadata": {
    "pycharm": {
     "name": "#%%\n"
    }
   },
   "outputs": [],
   "source": [
    "def get_test_train_data(events_data, feature_columns):\n",
    "    X = events_data.loc[:, feature_columns].values.astype(np.float32)\n",
    "    print('overall input shape: ' + str(X.shape))\n",
    "\n",
    "    y = events_data.loc[:, ['outcome']].values.astype(np.float32).ravel()\n",
    "    print('overall output shape: ' + str(y.shape))\n",
    "\n",
    "    X_train, X_test, y_train, y_test = train_test_split(X, y, test_size=0.2, random_state=42)\n",
    "    print('training input shape: ' + str(X_train.shape))\n",
    "    print('training output shape: ' + str(y_train.shape))\n",
    "\n",
    "    print('testing input shape: ' + str(X_test.shape))\n",
    "    print('testing output shape: ' + str(y_test.shape))\n",
    "    \n",
    "    return [X_train, X_test, y_train, y_test]"
   ]
  },
  {
   "cell_type": "markdown",
   "metadata": {
    "pycharm": {
     "name": "#%% md\n"
    }
   },
   "source": [
    "# Generate linear events"
   ]
  },
  {
   "cell_type": "code",
   "execution_count": 33,
   "metadata": {
    "pycharm": {
     "name": "#%%\n"
    }
   },
   "outputs": [],
   "source": [
    "learning_data = build_learning_data_from(movie_data)"
   ]
  },
  {
   "cell_type": "code",
   "execution_count": 34,
   "metadata": {
    "pycharm": {
     "name": "#%%\n"
    }
   },
   "outputs": [],
   "source": [
    "events_data = EventsGenerator(learning_data, movie_data['buy_probability']).run()"
   ]
  },
  {
   "cell_type": "code",
   "execution_count": 35,
   "metadata": {
    "pycharm": {
     "name": "#%%\n"
    }
   },
   "outputs": [],
   "source": [
    "save_events_data(events_data, learning_data, 'linear')"
   ]
  },
  {
   "cell_type": "code",
   "execution_count": 36,
   "metadata": {
    "pycharm": {
     "name": "#%%\n"
    }
   },
   "outputs": [],
   "source": [
    "events_data, feature_columns = load_events_data('linear')"
   ]
  },
  {
   "cell_type": "code",
   "execution_count": 37,
   "metadata": {
    "pycharm": {
     "name": "#%%\n"
    }
   },
   "outputs": [
    {
     "data": {
      "text/plain": "<Figure size 432x288 with 1 Axes>",
      "image/png": "[encoded data removed]"
     },
     "metadata": {
      "needs_background": "light"
     },
     "output_type": "display_data"
    }
   ],
   "source": [
    "plot_events_distribution(events_data)"
   ]
  },
  {
   "cell_type": "markdown",
   "metadata": {
    "pycharm": {
     "name": "#%% md\n"
    }
   },
   "source": [
    "## Pairwise"
   ]
  },
  {
   "cell_type": "code",
   "execution_count": 38,
   "metadata": {
    "pycharm": {
     "name": "#%%\n"
    }
   },
   "outputs": [
    {
     "name": "stdout",
     "output_type": "stream",
     "text": [
      "0 of 999\n",
      "1 of 999\n",
      "2 of 999\n",
      "3 of 999\n",
      "4 of 999\n",
      "5 of 999\n",
      "6 of 999\n",
      "7 of 999\n",
      "8 of 999\n",
      "9 of 999\n",
      "10 of 999\n",
      "11 of 999\n",
      "12 of 999\n",
      "13 of 999\n",
      "14 of 999\n",
      "15 of 999\n",
      "16 of 999\n",
      "17 of 999\n",
      "18 of 999\n",
      "19 of 999\n",
      "20 of 999\n",
      "21 of 999\n",
      "22 of 999\n",
      "23 of 999\n",
      "24 of 999\n",
      "25 of 999\n",
      "26 of 999\n",
      "27 of 999\n",
      "28 of 999\n",
      "29 of 999\n",
      "30 of 999\n",
      "31 of 999\n",
      "32 of 999\n",
      "33 of 999\n",
      "34 of 999\n",
      "35 of 999\n",
      "36 of 999\n",
      "37 of 999\n",
      "38 of 999\n",
      "39 of 999\n",
      "40 of 999\n",
      "41 of 999\n",
      "42 of 999\n",
      "43 of 999\n",
      "44 of 999\n",
      "45 of 999\n",
      "46 of 999\n",
      "47 of 999\n",
      "48 of 999\n",
      "49 of 999\n",
      "50 of 999\n",
      "51 of 999\n",
      "52 of 999\n",
      "53 of 999\n",
      "54 of 999\n",
      "55 of 999\n",
      "56 of 999\n",
      "57 of 999\n",
      "58 of 999\n",
      "59 of 999\n",
      "60 of 999\n",
      "61 of 999\n",
      "62 of 999\n",
      "63 of 999\n",
      "64 of 999\n",
      "65 of 999\n",
      "66 of 999\n",
      "67 of 999\n",
      "68 of 999\n",
      "69 of 999\n",
      "70 of 999\n",
      "71 of 999\n",
      "72 of 999\n",
      "73 of 999\n",
      "74 of 999\n",
      "75 of 999\n",
      "76 of 999\n",
      "77 of 999\n",
      "78 of 999\n",
      "79 of 999\n",
      "80 of 999\n",
      "81 of 999\n",
      "82 of 999\n",
      "83 of 999\n",
      "84 of 999\n",
      "85 of 999\n",
      "86 of 999\n",
      "87 of 999\n",
      "88 of 999\n",
      "89 of 999\n",
      "90 of 999\n",
      "91 of 999\n",
      "92 of 999\n",
      "93 of 999\n",
      "94 of 999\n",
      "95 of 999\n",
      "96 of 999\n",
      "97 of 999\n",
      "98 of 999\n",
      "99 of 999\n",
      "100 of 999\n",
      "101 of 999\n",
      "102 of 999\n",
      "103 of 999\n",
      "104 of 999\n",
      "105 of 999\n",
      "106 of 999\n",
      "107 of 999\n",
      "108 of 999\n",
      "109 of 999\n",
      "110 of 999\n",
      "111 of 999\n",
      "112 of 999\n",
      "113 of 999\n",
      "114 of 999\n",
      "115 of 999\n",
      "116 of 999\n",
      "117 of 999\n",
      "118 of 999\n",
      "119 of 999\n",
      "120 of 999\n",
      "121 of 999\n",
      "122 of 999\n",
      "123 of 999\n",
      "124 of 999\n",
      "125 of 999\n",
      "126 of 999\n",
      "127 of 999\n",
      "128 of 999\n",
      "129 of 999\n",
      "130 of 999\n",
      "131 of 999\n",
      "132 of 999\n",
      "133 of 999\n",
      "134 of 999\n",
      "135 of 999\n",
      "136 of 999\n",
      "137 of 999\n",
      "138 of 999\n",
      "139 of 999\n",
      "140 of 999\n",
      "141 of 999\n",
      "142 of 999\n",
      "143 of 999\n",
      "144 of 999\n",
      "145 of 999\n",
      "146 of 999\n",
      "147 of 999\n",
      "148 of 999\n",
      "149 of 999\n",
      "150 of 999\n",
      "151 of 999\n",
      "152 of 999\n",
      "153 of 999\n",
      "154 of 999\n",
      "155 of 999\n",
      "156 of 999\n",
      "157 of 999\n",
      "158 of 999\n",
      "159 of 999\n",
      "160 of 999\n",
      "161 of 999\n",
      "162 of 999\n",
      "163 of 999\n",
      "164 of 999\n",
      "165 of 999\n",
      "166 of 999\n",
      "167 of 999\n",
      "168 of 999\n",
      "169 of 999\n",
      "170 of 999\n",
      "171 of 999\n",
      "172 of 999\n",
      "173 of 999\n",
      "174 of 999\n",
      "175 of 999\n",
      "176 of 999\n",
      "177 of 999\n",
      "178 of 999\n",
      "179 of 999\n",
      "180 of 999\n",
      "181 of 999\n",
      "182 of 999\n",
      "183 of 999\n",
      "184 of 999\n",
      "185 of 999\n",
      "186 of 999\n",
      "187 of 999\n",
      "188 of 999\n",
      "189 of 999\n",
      "190 of 999\n",
      "191 of 999\n",
      "192 of 999\n",
      "193 of 999\n",
      "194 of 999\n",
      "195 of 999\n",
      "196 of 999\n",
      "197 of 999\n",
      "198 of 999\n",
      "199 of 999\n",
      "200 of 999\n",
      "201 of 999\n",
      "202 of 999\n",
      "203 of 999\n",
      "204 of 999\n",
      "205 of 999\n",
      "206 of 999\n",
      "207 of 999\n",
      "208 of 999\n",
      "209 of 999\n",
      "210 of 999\n",
      "211 of 999\n",
      "212 of 999\n",
      "213 of 999\n",
      "214 of 999\n",
      "215 of 999\n",
      "216 of 999\n",
      "217 of 999\n",
      "218 of 999\n",
      "219 of 999\n",
      "220 of 999\n",
      "221 of 999\n",
      "222 of 999\n",
      "223 of 999\n",
      "224 of 999\n",
      "225 of 999\n",
      "226 of 999\n",
      "227 of 999\n",
      "228 of 999\n",
      "229 of 999\n",
      "230 of 999\n",
      "231 of 999\n",
      "232 of 999\n",
      "233 of 999\n",
      "234 of 999\n",
      "235 of 999\n",
      "236 of 999\n",
      "237 of 999\n",
      "238 of 999\n",
      "239 of 999\n",
      "240 of 999\n",
      "241 of 999\n",
      "242 of 999\n",
      "243 of 999\n",
      "244 of 999\n",
      "245 of 999\n",
      "246 of 999\n",
      "247 of 999\n",
      "248 of 999\n",
      "249 of 999\n",
      "250 of 999\n",
      "251 of 999\n",
      "252 of 999\n",
      "253 of 999\n",
      "254 of 999\n",
      "255 of 999\n",
      "256 of 999\n",
      "257 of 999\n",
      "258 of 999\n",
      "259 of 999\n",
      "260 of 999\n",
      "261 of 999\n",
      "262 of 999\n",
      "263 of 999\n",
      "264 of 999\n",
      "265 of 999\n",
      "266 of 999\n",
      "267 of 999\n",
      "268 of 999\n",
      "269 of 999\n",
      "270 of 999\n",
      "271 of 999\n",
      "272 of 999\n",
      "273 of 999\n",
      "274 of 999\n",
      "275 of 999\n",
      "276 of 999\n",
      "277 of 999\n",
      "278 of 999\n",
      "279 of 999\n",
      "280 of 999\n",
      "281 of 999\n",
      "282 of 999\n",
      "283 of 999\n",
      "284 of 999\n",
      "285 of 999\n",
      "286 of 999\n",
      "287 of 999\n",
      "288 of 999\n",
      "289 of 999\n",
      "290 of 999\n",
      "291 of 999\n",
      "292 of 999\n",
      "293 of 999\n",
      "294 of 999\n",
      "295 of 999\n",
      "296 of 999\n",
      "297 of 999\n",
      "298 of 999\n",
      "299 of 999\n",
      "300 of 999\n",
      "301 of 999\n",
      "302 of 999\n",
      "303 of 999\n",
      "304 of 999\n",
      "305 of 999\n",
      "306 of 999\n",
      "307 of 999\n",
      "308 of 999\n",
      "309 of 999\n",
      "310 of 999\n",
      "311 of 999\n",
      "312 of 999\n",
      "313 of 999\n",
      "314 of 999\n",
      "315 of 999\n",
      "316 of 999\n",
      "317 of 999\n",
      "318 of 999\n",
      "319 of 999\n",
      "320 of 999\n",
      "321 of 999\n",
      "322 of 999\n",
      "323 of 999\n",
      "324 of 999\n",
      "325 of 999\n",
      "326 of 999\n",
      "327 of 999\n",
      "328 of 999\n",
      "329 of 999\n",
      "330 of 999\n",
      "331 of 999\n",
      "332 of 999\n",
      "333 of 999\n",
      "334 of 999\n",
      "335 of 999\n",
      "336 of 999\n",
      "337 of 999\n",
      "338 of 999\n",
      "339 of 999\n",
      "340 of 999\n",
      "341 of 999\n",
      "342 of 999\n",
      "343 of 999\n",
      "344 of 999\n",
      "345 of 999\n",
      "346 of 999\n",
      "347 of 999\n",
      "348 of 999\n",
      "349 of 999\n",
      "350 of 999\n",
      "351 of 999\n",
      "352 of 999\n",
      "353 of 999\n",
      "354 of 999\n",
      "355 of 999\n",
      "356 of 999\n",
      "357 of 999\n",
      "358 of 999\n",
      "359 of 999\n",
      "360 of 999\n",
      "361 of 999\n",
      "362 of 999\n",
      "363 of 999\n",
      "364 of 999\n",
      "365 of 999\n",
      "366 of 999\n",
      "367 of 999\n",
      "368 of 999\n",
      "369 of 999\n",
      "370 of 999\n",
      "371 of 999\n",
      "372 of 999\n",
      "373 of 999\n",
      "374 of 999\n",
      "375 of 999\n",
      "376 of 999\n",
      "377 of 999\n",
      "378 of 999\n",
      "379 of 999\n",
      "380 of 999\n",
      "381 of 999\n",
      "382 of 999\n",
      "383 of 999\n",
      "384 of 999\n",
      "385 of 999\n",
      "386 of 999\n",
      "387 of 999\n",
      "388 of 999\n",
      "389 of 999\n",
      "390 of 999\n",
      "391 of 999\n",
      "392 of 999\n",
      "393 of 999\n",
      "394 of 999\n",
      "395 of 999\n",
      "396 of 999\n",
      "397 of 999\n",
      "398 of 999\n",
      "399 of 999\n",
      "400 of 999\n",
      "401 of 999\n",
      "402 of 999\n",
      "403 of 999\n",
      "404 of 999\n",
      "405 of 999\n",
      "406 of 999\n",
      "407 of 999\n",
      "408 of 999\n",
      "409 of 999\n",
      "410 of 999\n",
      "411 of 999\n",
      "412 of 999\n",
      "413 of 999\n",
      "414 of 999\n",
      "415 of 999\n",
      "416 of 999\n",
      "417 of 999\n",
      "418 of 999\n",
      "419 of 999\n",
      "420 of 999\n",
      "421 of 999\n",
      "422 of 999\n",
      "423 of 999\n",
      "424 of 999\n",
      "425 of 999\n",
      "426 of 999\n",
      "427 of 999\n",
      "428 of 999\n",
      "429 of 999\n",
      "430 of 999\n",
      "431 of 999\n",
      "432 of 999\n",
      "433 of 999\n",
      "434 of 999\n",
      "435 of 999\n",
      "436 of 999\n",
      "437 of 999\n",
      "438 of 999\n",
      "439 of 999\n",
      "440 of 999\n",
      "441 of 999\n",
      "442 of 999\n",
      "443 of 999\n",
      "444 of 999\n",
      "445 of 999\n",
      "446 of 999\n",
      "447 of 999\n",
      "448 of 999\n",
      "449 of 999\n",
      "450 of 999\n",
      "451 of 999\n",
      "452 of 999\n",
      "453 of 999\n",
      "454 of 999\n",
      "455 of 999\n",
      "456 of 999\n",
      "457 of 999\n",
      "458 of 999\n",
      "459 of 999\n",
      "460 of 999\n",
      "461 of 999\n",
      "462 of 999\n",
      "463 of 999\n",
      "464 of 999\n",
      "465 of 999\n",
      "466 of 999\n",
      "467 of 999\n",
      "468 of 999\n",
      "469 of 999\n",
      "470 of 999\n",
      "471 of 999\n",
      "472 of 999\n",
      "473 of 999\n",
      "474 of 999\n",
      "475 of 999\n",
      "476 of 999\n",
      "477 of 999\n",
      "478 of 999\n",
      "479 of 999\n",
      "480 of 999\n",
      "481 of 999\n",
      "482 of 999\n",
      "483 of 999\n",
      "484 of 999\n",
      "485 of 999\n",
      "486 of 999\n",
      "487 of 999\n",
      "488 of 999\n",
      "489 of 999\n",
      "490 of 999\n",
      "491 of 999\n",
      "492 of 999\n",
      "493 of 999\n",
      "494 of 999\n",
      "495 of 999\n",
      "496 of 999\n",
      "497 of 999\n",
      "498 of 999\n",
      "499 of 999\n",
      "500 of 999\n",
      "501 of 999\n",
      "502 of 999\n",
      "503 of 999\n",
      "504 of 999\n",
      "505 of 999\n",
      "506 of 999\n",
      "507 of 999\n",
      "508 of 999\n",
      "509 of 999\n",
      "510 of 999\n",
      "511 of 999\n",
      "512 of 999\n",
      "513 of 999\n",
      "514 of 999\n",
      "515 of 999\n",
      "516 of 999\n",
      "517 of 999\n",
      "518 of 999\n",
      "519 of 999\n",
      "520 of 999\n",
      "521 of 999\n",
      "522 of 999\n",
      "523 of 999\n",
      "524 of 999\n",
      "525 of 999\n",
      "526 of 999\n",
      "527 of 999\n",
      "528 of 999\n",
      "529 of 999\n",
      "530 of 999\n",
      "531 of 999\n",
      "532 of 999\n",
      "533 of 999\n",
      "534 of 999\n",
      "535 of 999\n",
      "536 of 999\n",
      "537 of 999\n",
      "538 of 999\n",
      "539 of 999\n",
      "540 of 999\n",
      "541 of 999\n",
      "542 of 999\n",
      "543 of 999\n",
      "544 of 999\n",
      "545 of 999\n",
      "546 of 999\n",
      "547 of 999\n",
      "548 of 999\n",
      "549 of 999\n",
      "550 of 999\n",
      "551 of 999\n",
      "552 of 999\n",
      "553 of 999\n",
      "554 of 999\n",
      "555 of 999\n",
      "556 of 999\n",
      "557 of 999\n",
      "558 of 999\n",
      "559 of 999\n",
      "560 of 999\n",
      "561 of 999\n",
      "562 of 999\n",
      "563 of 999\n",
      "564 of 999\n",
      "565 of 999\n",
      "566 of 999\n",
      "567 of 999\n",
      "568 of 999\n",
      "569 of 999\n",
      "570 of 999\n",
      "571 of 999\n",
      "572 of 999\n",
      "573 of 999\n",
      "574 of 999\n",
      "575 of 999\n",
      "576 of 999\n",
      "577 of 999\n",
      "578 of 999\n",
      "579 of 999\n",
      "580 of 999\n",
      "581 of 999\n",
      "582 of 999\n",
      "583 of 999\n",
      "584 of 999\n",
      "585 of 999\n",
      "586 of 999\n",
      "587 of 999\n",
      "588 of 999\n",
      "589 of 999\n",
      "590 of 999\n",
      "591 of 999\n",
      "592 of 999\n",
      "593 of 999\n",
      "594 of 999\n",
      "595 of 999\n",
      "596 of 999\n",
      "597 of 999\n",
      "598 of 999\n",
      "599 of 999\n",
      "600 of 999\n",
      "601 of 999\n",
      "602 of 999\n",
      "603 of 999\n",
      "604 of 999\n",
      "605 of 999\n",
      "606 of 999\n",
      "607 of 999\n",
      "608 of 999\n",
      "609 of 999\n",
      "610 of 999\n",
      "611 of 999\n",
      "612 of 999\n",
      "613 of 999\n",
      "614 of 999\n",
      "615 of 999\n",
      "616 of 999\n",
      "617 of 999\n",
      "618 of 999\n",
      "619 of 999\n",
      "620 of 999\n",
      "621 of 999\n",
      "622 of 999\n",
      "623 of 999\n",
      "624 of 999\n",
      "625 of 999\n",
      "626 of 999\n",
      "627 of 999\n",
      "628 of 999\n",
      "629 of 999\n",
      "630 of 999\n",
      "631 of 999\n",
      "632 of 999\n",
      "633 of 999\n",
      "634 of 999\n",
      "635 of 999\n",
      "636 of 999\n",
      "637 of 999\n",
      "638 of 999\n",
      "639 of 999\n",
      "640 of 999\n",
      "641 of 999\n",
      "642 of 999\n",
      "643 of 999\n",
      "644 of 999\n",
      "645 of 999\n",
      "646 of 999\n",
      "647 of 999\n",
      "648 of 999\n",
      "649 of 999\n",
      "650 of 999\n",
      "651 of 999\n",
      "652 of 999\n",
      "653 of 999\n",
      "654 of 999\n",
      "655 of 999\n",
      "656 of 999\n",
      "657 of 999\n",
      "658 of 999\n",
      "659 of 999\n",
      "660 of 999\n",
      "661 of 999\n",
      "662 of 999\n",
      "663 of 999\n",
      "664 of 999\n",
      "665 of 999\n",
      "666 of 999\n",
      "667 of 999\n",
      "668 of 999\n",
      "669 of 999\n",
      "670 of 999\n",
      "671 of 999\n",
      "672 of 999\n",
      "673 of 999\n",
      "674 of 999\n",
      "675 of 999\n",
      "676 of 999\n",
      "677 of 999\n",
      "678 of 999\n",
      "679 of 999\n",
      "680 of 999\n",
      "681 of 999\n",
      "682 of 999\n",
      "683 of 999\n",
      "684 of 999\n",
      "685 of 999\n",
      "686 of 999\n",
      "687 of 999\n",
      "688 of 999\n",
      "689 of 999\n",
      "690 of 999\n",
      "691 of 999\n",
      "692 of 999\n",
      "693 of 999\n",
      "694 of 999\n",
      "695 of 999\n",
      "696 of 999\n",
      "697 of 999\n",
      "698 of 999\n",
      "699 of 999\n",
      "700 of 999\n",
      "701 of 999\n",
      "702 of 999\n",
      "703 of 999\n",
      "704 of 999\n",
      "705 of 999\n",
      "706 of 999\n",
      "707 of 999\n",
      "708 of 999\n",
      "709 of 999\n",
      "710 of 999\n",
      "711 of 999\n",
      "712 of 999\n",
      "713 of 999\n",
      "714 of 999\n",
      "715 of 999\n",
      "716 of 999\n",
      "717 of 999\n",
      "718 of 999\n",
      "719 of 999\n",
      "720 of 999\n",
      "721 of 999\n",
      "722 of 999\n",
      "723 of 999\n",
      "724 of 999\n",
      "725 of 999\n",
      "726 of 999\n",
      "727 of 999\n",
      "728 of 999\n",
      "729 of 999\n",
      "730 of 999\n",
      "731 of 999\n",
      "732 of 999\n",
      "733 of 999\n",
      "734 of 999\n",
      "735 of 999\n",
      "736 of 999\n",
      "737 of 999\n",
      "738 of 999\n",
      "739 of 999\n",
      "740 of 999\n",
      "741 of 999\n",
      "742 of 999\n",
      "743 of 999\n",
      "744 of 999\n",
      "745 of 999\n",
      "746 of 999\n",
      "747 of 999\n",
      "748 of 999\n",
      "749 of 999\n",
      "750 of 999\n",
      "751 of 999\n",
      "752 of 999\n",
      "753 of 999\n",
      "754 of 999\n",
      "755 of 999\n",
      "756 of 999\n",
      "757 of 999\n",
      "758 of 999\n",
      "759 of 999\n",
      "760 of 999\n",
      "761 of 999\n",
      "762 of 999\n",
      "763 of 999\n",
      "764 of 999\n",
      "765 of 999\n",
      "766 of 999\n",
      "767 of 999\n",
      "768 of 999\n",
      "769 of 999\n",
      "770 of 999\n",
      "771 of 999\n",
      "772 of 999\n",
      "773 of 999\n",
      "774 of 999\n",
      "775 of 999\n",
      "776 of 999\n",
      "777 of 999\n",
      "778 of 999\n",
      "779 of 999\n",
      "780 of 999\n",
      "781 of 999\n",
      "782 of 999\n",
      "783 of 999\n",
      "784 of 999\n",
      "785 of 999\n",
      "786 of 999\n",
      "787 of 999\n",
      "788 of 999\n",
      "789 of 999\n",
      "790 of 999\n",
      "791 of 999\n",
      "792 of 999\n",
      "793 of 999\n",
      "794 of 999\n",
      "795 of 999\n",
      "796 of 999\n",
      "797 of 999\n",
      "798 of 999\n",
      "799 of 999\n",
      "800 of 999\n",
      "801 of 999\n",
      "802 of 999\n",
      "803 of 999\n",
      "804 of 999\n",
      "805 of 999\n",
      "806 of 999\n",
      "807 of 999\n",
      "808 of 999\n",
      "809 of 999\n",
      "810 of 999\n",
      "811 of 999\n",
      "812 of 999\n",
      "813 of 999\n",
      "814 of 999\n",
      "815 of 999\n",
      "816 of 999\n",
      "817 of 999\n",
      "818 of 999\n",
      "819 of 999\n",
      "820 of 999\n",
      "821 of 999\n",
      "822 of 999\n",
      "823 of 999\n",
      "824 of 999\n",
      "825 of 999\n",
      "826 of 999\n",
      "827 of 999\n",
      "828 of 999\n",
      "829 of 999\n",
      "830 of 999\n",
      "831 of 999\n",
      "832 of 999\n",
      "833 of 999\n",
      "834 of 999\n",
      "835 of 999\n",
      "836 of 999\n",
      "837 of 999\n",
      "838 of 999\n",
      "839 of 999\n",
      "840 of 999\n",
      "841 of 999\n",
      "842 of 999\n",
      "843 of 999\n",
      "844 of 999\n",
      "845 of 999\n",
      "846 of 999\n",
      "847 of 999\n",
      "848 of 999\n",
      "849 of 999\n",
      "850 of 999\n",
      "851 of 999\n",
      "852 of 999\n",
      "853 of 999\n",
      "854 of 999\n",
      "855 of 999\n",
      "856 of 999\n",
      "857 of 999\n",
      "858 of 999\n",
      "859 of 999\n",
      "860 of 999\n",
      "861 of 999\n",
      "862 of 999\n",
      "863 of 999\n",
      "864 of 999\n",
      "865 of 999\n",
      "866 of 999\n",
      "867 of 999\n",
      "868 of 999\n",
      "869 of 999\n",
      "870 of 999\n",
      "871 of 999\n",
      "872 of 999\n",
      "873 of 999\n",
      "874 of 999\n",
      "875 of 999\n",
      "876 of 999\n",
      "877 of 999\n",
      "878 of 999\n",
      "879 of 999\n",
      "880 of 999\n",
      "881 of 999\n",
      "882 of 999\n",
      "883 of 999\n",
      "884 of 999\n",
      "885 of 999\n",
      "886 of 999\n",
      "887 of 999\n",
      "888 of 999\n",
      "889 of 999\n",
      "890 of 999\n",
      "891 of 999\n",
      "892 of 999\n",
      "893 of 999\n",
      "894 of 999\n",
      "895 of 999\n",
      "896 of 999\n",
      "897 of 999\n",
      "898 of 999\n",
      "899 of 999\n",
      "900 of 999\n",
      "901 of 999\n",
      "902 of 999\n",
      "903 of 999\n",
      "904 of 999\n",
      "905 of 999\n",
      "906 of 999\n",
      "907 of 999\n",
      "908 of 999\n",
      "909 of 999\n",
      "910 of 999\n",
      "911 of 999\n",
      "912 of 999\n",
      "913 of 999\n",
      "914 of 999\n",
      "915 of 999\n",
      "916 of 999\n",
      "917 of 999\n",
      "918 of 999\n",
      "919 of 999\n",
      "920 of 999\n",
      "921 of 999\n",
      "922 of 999\n",
      "923 of 999\n",
      "924 of 999\n",
      "925 of 999\n",
      "926 of 999\n",
      "927 of 999\n",
      "928 of 999\n",
      "929 of 999\n",
      "930 of 999\n",
      "931 of 999\n",
      "932 of 999\n",
      "933 of 999\n",
      "934 of 999\n",
      "935 of 999\n",
      "936 of 999\n",
      "937 of 999\n",
      "938 of 999\n",
      "939 of 999\n",
      "940 of 999\n",
      "941 of 999\n",
      "942 of 999\n",
      "943 of 999\n",
      "944 of 999\n",
      "945 of 999\n",
      "946 of 999\n",
      "947 of 999\n",
      "948 of 999\n",
      "949 of 999\n",
      "950 of 999\n",
      "951 of 999\n",
      "952 of 999\n",
      "953 of 999\n",
      "954 of 999\n",
      "955 of 999\n",
      "956 of 999\n",
      "957 of 999\n",
      "958 of 999\n",
      "959 of 999\n",
      "960 of 999\n",
      "961 of 999\n",
      "962 of 999\n",
      "963 of 999\n",
      "964 of 999\n",
      "965 of 999\n",
      "966 of 999\n",
      "967 of 999\n",
      "968 of 999\n",
      "969 of 999\n",
      "970 of 999\n",
      "971 of 999\n",
      "972 of 999\n",
      "973 of 999\n",
      "974 of 999\n",
      "975 of 999\n",
      "976 of 999\n",
      "977 of 999\n",
      "978 of 999\n",
      "979 of 999\n",
      "980 of 999\n",
      "981 of 999\n",
      "982 of 999\n",
      "983 of 999\n",
      "984 of 999\n",
      "985 of 999\n",
      "986 of 999\n",
      "987 of 999\n",
      "988 of 999\n",
      "989 of 999\n",
      "990 of 999\n",
      "991 of 999\n",
      "992 of 999\n",
      "993 of 999\n",
      "994 of 999\n",
      "995 of 999\n",
      "996 of 999\n",
      "997 of 999\n",
      "998 of 999\n"
     ]
    }
   ],
   "source": [
    "events_data = EventsGenerator(learning_data, movie_data['buy_probability']).run(pairwise=True)"
   ]
  },
  {
   "cell_type": "code",
   "execution_count": 39,
   "metadata": {
    "pycharm": {
     "name": "#%%\n"
    }
   },
   "outputs": [],
   "source": [
    "save_events_data(events_data, learning_data, 'pairwise-linear', pairwise=True)"
   ]
  },
  {
   "cell_type": "code",
   "execution_count": 40,
   "metadata": {
    "pycharm": {
     "name": "#%%\n"
    }
   },
   "outputs": [],
   "source": [
    "events_data, feature_columns = load_events_data('pairwise-linear')"
   ]
  },
  {
   "cell_type": "code",
   "execution_count": 41,
   "metadata": {
    "pycharm": {
     "name": "#%%\n"
    }
   },
   "outputs": [
    {
     "data": {
      "text/plain": "(132542, 48)"
     },
     "execution_count": 41,
     "metadata": {},
     "output_type": "execute_result"
    }
   ],
   "source": [
    "events_data.shape"
   ]
  },
  {
   "cell_type": "markdown",
   "metadata": {
    "pycharm": {
     "name": "#%% md\n"
    }
   },
   "source": [
    "# Train/Test data split"
   ]
  },
  {
   "cell_type": "code",
   "execution_count": 42,
   "metadata": {
    "pycharm": {
     "name": "#%%\n"
    }
   },
   "outputs": [
    {
     "name": "stdout",
     "output_type": "stream",
     "text": [
      "overall input shape: (132542, 46)\n",
      "overall output shape: (132542,)\n",
      "training input shape: (106033, 46)\n",
      "training output shape: (106033,)\n",
      "testing input shape: (26509, 46)\n",
      "testing output shape: (26509,)\n"
     ]
    }
   ],
   "source": [
    "X_train, X_test, y_train, y_test = get_test_train_data(events_data, feature_columns)"
   ]
  },
  {
   "cell_type": "markdown",
   "metadata": {
    "pycharm": {
     "name": "#%% md\n"
    }
   },
   "source": [
    "# Utility functions"
   ]
  },
  {
   "cell_type": "code",
   "execution_count": 44,
   "metadata": {
    "pycharm": {
     "name": "#%%\n"
    }
   },
   "outputs": [],
   "source": [
    "# def plot_rank(features, model, learning_data, predict_fun):\n",
    "#     lg_input = learning_data.values.astype(np.float32)\n",
    "#     print('overall input shape: ' + str(lg_input.shape))\n",
    "#\n",
    "#     learning_data_with_rank = learning_data.copy()\n",
    "#     learning_data_with_rank['rank'] = predict_fun(model, lg_input)\n",
    "#\n",
    "#     for idx, feature in enumerate(features):\n",
    "#         plt.subplot(len(features), 1, idx + 1)\n",
    "#         plt.plot(learning_data_with_rank[feature].values, learning_data_with_rank['rank'].values, 'ro')\n",
    "#         plt.xlabel(feature)\n",
    "#         plt.ylabel('rank')\n",
    "#\n",
    "#     plt.tight_layout()\n",
    "#     plt.show()"
   ]
  },
  {
   "cell_type": "code",
   "execution_count": 46,
   "metadata": {
    "pycharm": {
     "name": "#%%\n"
    }
   },
   "outputs": [],
   "source": [
    "def train_model(model, prediction_function, X_train, y_train, X_test, y_test):\n",
    "    model.fit(X_train, y_train)\n",
    "    \n",
    "    y_train_pred = prediction_function(model, X_train)\n",
    "\n",
    "    print('train precision: ' + str(precision_score(y_train, y_train_pred)))\n",
    "    print('train recall: ' + str(recall_score(y_train, y_train_pred)))\n",
    "    print('train accuracy: ' + str(accuracy_score(y_train, y_train_pred)))\n",
    "\n",
    "    y_test_pred = prediction_function(model, X_test)\n",
    "\n",
    "    print('test precision: ' + str(precision_score(y_test, y_test_pred)))\n",
    "    print('test recall: ' + str(recall_score(y_test, y_test_pred)))\n",
    "    print('test accuracy: ' + str(accuracy_score(y_test, y_test_pred)))\n",
    "    \n",
    "    return model"
   ]
  },
  {
   "cell_type": "markdown",
   "metadata": {
    "pycharm": {
     "name": "#%% md\n"
    }
   },
   "source": [
    "# Rank with the perfect predictor"
   ]
  },
  {
   "cell_type": "code",
   "execution_count": 47,
   "metadata": {
    "pycharm": {
     "name": "#%%\n"
    }
   },
   "outputs": [],
   "source": [
    "def get_predicted_outcome(model, data):\n",
    "    return np.rint(model.predict(data))"
   ]
  },
  {
   "cell_type": "code",
   "execution_count": 48,
   "metadata": {
    "pycharm": {
     "name": "#%%\n"
    }
   },
   "outputs": [],
   "source": [
    "def get_predicted_rank(model, data):\n",
    "    return model.predict(data)"
   ]
  },
  {
   "cell_type": "code",
   "execution_count": 49,
   "metadata": {
    "pycharm": {
     "name": "#%%\n"
    }
   },
   "outputs": [],
   "source": [
    "import warnings\n",
    "warnings.filterwarnings(\"ignore\", category=DeprecationWarning)"
   ]
  },
  {
   "cell_type": "code",
   "execution_count": 50,
   "metadata": {
    "pycharm": {
     "name": "#%%\n"
    }
   },
   "outputs": [],
   "source": [
    "class PerfectPredictor:\n",
    "    def fit(self, X, y):\n",
    "        return None\n",
    "    \n",
    "    def predict(self, X):\n",
    "        min_max_scaler = preprocessing.MinMaxScaler()\n",
    "        return 1 - min_max_scaler.fit_transform(X[:, -5])"
   ]
  },
  {
   "cell_type": "code",
   "execution_count": 51,
   "metadata": {
    "pycharm": {
     "name": "#%%\n"
    }
   },
   "outputs": [
    {
     "ename": "ValueError",
     "evalue": "Expected 2D array, got 1D array instead:\narray=[-1.3074431   0.28363693 -0.2467231  ...  0.28363693  0.813997\n  1.344357  ].\nReshape your data either using array.reshape(-1, 1) if your data has a single feature or array.reshape(1, -1) if it contains a single sample.",
     "output_type": "error",
     "traceback": [
      "\u001B[1;31m---------------------------------------------------------------------------\u001B[0m",
      "\u001B[1;31mValueError\u001B[0m                                Traceback (most recent call last)",
      "\u001B[1;32m<ipython-input-51-8887ea930982>\u001B[0m in \u001B[0;36m<module>\u001B[1;34m\u001B[0m\n\u001B[1;32m----> 1\u001B[1;33m \u001B[0mmodel\u001B[0m \u001B[1;33m=\u001B[0m \u001B[0mtrain_model\u001B[0m\u001B[1;33m(\u001B[0m\u001B[0mPerfectPredictor\u001B[0m\u001B[1;33m(\u001B[0m\u001B[1;33m)\u001B[0m\u001B[1;33m,\u001B[0m \u001B[0mget_predicted_outcome\u001B[0m\u001B[1;33m,\u001B[0m \u001B[0mX_train\u001B[0m\u001B[1;33m,\u001B[0m \u001B[0my_train\u001B[0m\u001B[1;33m,\u001B[0m \u001B[0mX_test\u001B[0m\u001B[1;33m,\u001B[0m \u001B[0my_test\u001B[0m\u001B[1;33m)\u001B[0m\u001B[1;33m\u001B[0m\u001B[1;33m\u001B[0m\u001B[0m\n\u001B[0m",
      "\u001B[1;32m<ipython-input-46-31e539c06cbb>\u001B[0m in \u001B[0;36mtrain_model\u001B[1;34m(model, prediction_function, X_train, y_train, X_test, y_test)\u001B[0m\n\u001B[0;32m      2\u001B[0m     \u001B[0mmodel\u001B[0m\u001B[1;33m.\u001B[0m\u001B[0mfit\u001B[0m\u001B[1;33m(\u001B[0m\u001B[0mX_train\u001B[0m\u001B[1;33m,\u001B[0m \u001B[0my_train\u001B[0m\u001B[1;33m)\u001B[0m\u001B[1;33m\u001B[0m\u001B[1;33m\u001B[0m\u001B[0m\n\u001B[0;32m      3\u001B[0m \u001B[1;33m\u001B[0m\u001B[0m\n\u001B[1;32m----> 4\u001B[1;33m     \u001B[0my_train_pred\u001B[0m \u001B[1;33m=\u001B[0m \u001B[0mprediction_function\u001B[0m\u001B[1;33m(\u001B[0m\u001B[0mmodel\u001B[0m\u001B[1;33m,\u001B[0m \u001B[0mX_train\u001B[0m\u001B[1;33m)\u001B[0m\u001B[1;33m\u001B[0m\u001B[1;33m\u001B[0m\u001B[0m\n\u001B[0m\u001B[0;32m      5\u001B[0m \u001B[1;33m\u001B[0m\u001B[0m\n\u001B[0;32m      6\u001B[0m     \u001B[0mprint\u001B[0m\u001B[1;33m(\u001B[0m\u001B[1;34m'train precision: '\u001B[0m \u001B[1;33m+\u001B[0m \u001B[0mstr\u001B[0m\u001B[1;33m(\u001B[0m\u001B[0mprecision_score\u001B[0m\u001B[1;33m(\u001B[0m\u001B[0my_train\u001B[0m\u001B[1;33m,\u001B[0m \u001B[0my_train_pred\u001B[0m\u001B[1;33m)\u001B[0m\u001B[1;33m)\u001B[0m\u001B[1;33m)\u001B[0m\u001B[1;33m\u001B[0m\u001B[1;33m\u001B[0m\u001B[0m\n",
      "\u001B[1;32m<ipython-input-47-32fa4d10e7c8>\u001B[0m in \u001B[0;36mget_predicted_outcome\u001B[1;34m(model, data)\u001B[0m\n\u001B[0;32m      1\u001B[0m \u001B[1;32mdef\u001B[0m \u001B[0mget_predicted_outcome\u001B[0m\u001B[1;33m(\u001B[0m\u001B[0mmodel\u001B[0m\u001B[1;33m,\u001B[0m \u001B[0mdata\u001B[0m\u001B[1;33m)\u001B[0m\u001B[1;33m:\u001B[0m\u001B[1;33m\u001B[0m\u001B[1;33m\u001B[0m\u001B[0m\n\u001B[1;32m----> 2\u001B[1;33m     \u001B[1;32mreturn\u001B[0m \u001B[0mnp\u001B[0m\u001B[1;33m.\u001B[0m\u001B[0mrint\u001B[0m\u001B[1;33m(\u001B[0m\u001B[0mmodel\u001B[0m\u001B[1;33m.\u001B[0m\u001B[0mpredict\u001B[0m\u001B[1;33m(\u001B[0m\u001B[0mdata\u001B[0m\u001B[1;33m)\u001B[0m\u001B[1;33m)\u001B[0m\u001B[1;33m\u001B[0m\u001B[1;33m\u001B[0m\u001B[0m\n\u001B[0m",
      "\u001B[1;32m<ipython-input-50-253049f8559a>\u001B[0m in \u001B[0;36mpredict\u001B[1;34m(self, X)\u001B[0m\n\u001B[0;32m      5\u001B[0m     \u001B[1;32mdef\u001B[0m \u001B[0mpredict\u001B[0m\u001B[1;33m(\u001B[0m\u001B[0mself\u001B[0m\u001B[1;33m,\u001B[0m \u001B[0mX\u001B[0m\u001B[1;33m)\u001B[0m\u001B[1;33m:\u001B[0m\u001B[1;33m\u001B[0m\u001B[1;33m\u001B[0m\u001B[0m\n\u001B[0;32m      6\u001B[0m         \u001B[0mmin_max_scaler\u001B[0m \u001B[1;33m=\u001B[0m \u001B[0mpreprocessing\u001B[0m\u001B[1;33m.\u001B[0m\u001B[0mMinMaxScaler\u001B[0m\u001B[1;33m(\u001B[0m\u001B[1;33m)\u001B[0m\u001B[1;33m\u001B[0m\u001B[1;33m\u001B[0m\u001B[0m\n\u001B[1;32m----> 7\u001B[1;33m         \u001B[1;32mreturn\u001B[0m \u001B[1;36m1\u001B[0m \u001B[1;33m-\u001B[0m \u001B[0mmin_max_scaler\u001B[0m\u001B[1;33m.\u001B[0m\u001B[0mfit_transform\u001B[0m\u001B[1;33m(\u001B[0m\u001B[0mX\u001B[0m\u001B[1;33m[\u001B[0m\u001B[1;33m:\u001B[0m\u001B[1;33m,\u001B[0m \u001B[1;33m-\u001B[0m\u001B[1;36m5\u001B[0m\u001B[1;33m]\u001B[0m\u001B[1;33m)\u001B[0m\u001B[1;33m\u001B[0m\u001B[1;33m\u001B[0m\u001B[0m\n\u001B[0m",
      "\u001B[1;32m~\\AppData\\Roaming\\Python\\Python37\\site-packages\\sklearn\\base.py\u001B[0m in \u001B[0;36mfit_transform\u001B[1;34m(self, X, y, **fit_params)\u001B[0m\n\u001B[0;32m    697\u001B[0m         \u001B[1;32mif\u001B[0m \u001B[0my\u001B[0m \u001B[1;32mis\u001B[0m \u001B[1;32mNone\u001B[0m\u001B[1;33m:\u001B[0m\u001B[1;33m\u001B[0m\u001B[1;33m\u001B[0m\u001B[0m\n\u001B[0;32m    698\u001B[0m             \u001B[1;31m# fit method of arity 1 (unsupervised transformation)\u001B[0m\u001B[1;33m\u001B[0m\u001B[1;33m\u001B[0m\u001B[1;33m\u001B[0m\u001B[0m\n\u001B[1;32m--> 699\u001B[1;33m             \u001B[1;32mreturn\u001B[0m \u001B[0mself\u001B[0m\u001B[1;33m.\u001B[0m\u001B[0mfit\u001B[0m\u001B[1;33m(\u001B[0m\u001B[0mX\u001B[0m\u001B[1;33m,\u001B[0m \u001B[1;33m**\u001B[0m\u001B[0mfit_params\u001B[0m\u001B[1;33m)\u001B[0m\u001B[1;33m.\u001B[0m\u001B[0mtransform\u001B[0m\u001B[1;33m(\u001B[0m\u001B[0mX\u001B[0m\u001B[1;33m)\u001B[0m\u001B[1;33m\u001B[0m\u001B[1;33m\u001B[0m\u001B[0m\n\u001B[0m\u001B[0;32m    700\u001B[0m         \u001B[1;32melse\u001B[0m\u001B[1;33m:\u001B[0m\u001B[1;33m\u001B[0m\u001B[1;33m\u001B[0m\u001B[0m\n\u001B[0;32m    701\u001B[0m             \u001B[1;31m# fit method of arity 2 (supervised transformation)\u001B[0m\u001B[1;33m\u001B[0m\u001B[1;33m\u001B[0m\u001B[1;33m\u001B[0m\u001B[0m\n",
      "\u001B[1;32m~\\AppData\\Roaming\\Python\\Python37\\site-packages\\sklearn\\preprocessing\\_data.py\u001B[0m in \u001B[0;36mfit\u001B[1;34m(self, X, y)\u001B[0m\n\u001B[0;32m    361\u001B[0m         \u001B[1;31m# Reset internal state before fitting\u001B[0m\u001B[1;33m\u001B[0m\u001B[1;33m\u001B[0m\u001B[1;33m\u001B[0m\u001B[0m\n\u001B[0;32m    362\u001B[0m         \u001B[0mself\u001B[0m\u001B[1;33m.\u001B[0m\u001B[0m_reset\u001B[0m\u001B[1;33m(\u001B[0m\u001B[1;33m)\u001B[0m\u001B[1;33m\u001B[0m\u001B[1;33m\u001B[0m\u001B[0m\n\u001B[1;32m--> 363\u001B[1;33m         \u001B[1;32mreturn\u001B[0m \u001B[0mself\u001B[0m\u001B[1;33m.\u001B[0m\u001B[0mpartial_fit\u001B[0m\u001B[1;33m(\u001B[0m\u001B[0mX\u001B[0m\u001B[1;33m,\u001B[0m \u001B[0my\u001B[0m\u001B[1;33m)\u001B[0m\u001B[1;33m\u001B[0m\u001B[1;33m\u001B[0m\u001B[0m\n\u001B[0m\u001B[0;32m    364\u001B[0m \u001B[1;33m\u001B[0m\u001B[0m\n\u001B[0;32m    365\u001B[0m     \u001B[1;32mdef\u001B[0m \u001B[0mpartial_fit\u001B[0m\u001B[1;33m(\u001B[0m\u001B[0mself\u001B[0m\u001B[1;33m,\u001B[0m \u001B[0mX\u001B[0m\u001B[1;33m,\u001B[0m \u001B[0my\u001B[0m\u001B[1;33m=\u001B[0m\u001B[1;32mNone\u001B[0m\u001B[1;33m)\u001B[0m\u001B[1;33m:\u001B[0m\u001B[1;33m\u001B[0m\u001B[1;33m\u001B[0m\u001B[0m\n",
      "\u001B[1;32m~\\AppData\\Roaming\\Python\\Python37\\site-packages\\sklearn\\preprocessing\\_data.py\u001B[0m in \u001B[0;36mpartial_fit\u001B[1;34m(self, X, y)\u001B[0m\n\u001B[0;32m    396\u001B[0m         X = self._validate_data(X, reset=first_pass,\n\u001B[0;32m    397\u001B[0m                                 \u001B[0mestimator\u001B[0m\u001B[1;33m=\u001B[0m\u001B[0mself\u001B[0m\u001B[1;33m,\u001B[0m \u001B[0mdtype\u001B[0m\u001B[1;33m=\u001B[0m\u001B[0mFLOAT_DTYPES\u001B[0m\u001B[1;33m,\u001B[0m\u001B[1;33m\u001B[0m\u001B[1;33m\u001B[0m\u001B[0m\n\u001B[1;32m--> 398\u001B[1;33m                                 force_all_finite=\"allow-nan\")\n\u001B[0m\u001B[0;32m    399\u001B[0m \u001B[1;33m\u001B[0m\u001B[0m\n\u001B[0;32m    400\u001B[0m         \u001B[0mdata_min\u001B[0m \u001B[1;33m=\u001B[0m \u001B[0mnp\u001B[0m\u001B[1;33m.\u001B[0m\u001B[0mnanmin\u001B[0m\u001B[1;33m(\u001B[0m\u001B[0mX\u001B[0m\u001B[1;33m,\u001B[0m \u001B[0maxis\u001B[0m\u001B[1;33m=\u001B[0m\u001B[1;36m0\u001B[0m\u001B[1;33m)\u001B[0m\u001B[1;33m\u001B[0m\u001B[1;33m\u001B[0m\u001B[0m\n",
      "\u001B[1;32m~\\AppData\\Roaming\\Python\\Python37\\site-packages\\sklearn\\base.py\u001B[0m in \u001B[0;36m_validate_data\u001B[1;34m(self, X, y, reset, validate_separately, **check_params)\u001B[0m\n\u001B[0;32m    419\u001B[0m             \u001B[0mout\u001B[0m \u001B[1;33m=\u001B[0m \u001B[0mX\u001B[0m\u001B[1;33m\u001B[0m\u001B[1;33m\u001B[0m\u001B[0m\n\u001B[0;32m    420\u001B[0m         \u001B[1;32melif\u001B[0m \u001B[0misinstance\u001B[0m\u001B[1;33m(\u001B[0m\u001B[0my\u001B[0m\u001B[1;33m,\u001B[0m \u001B[0mstr\u001B[0m\u001B[1;33m)\u001B[0m \u001B[1;32mand\u001B[0m \u001B[0my\u001B[0m \u001B[1;33m==\u001B[0m \u001B[1;34m'no_validation'\u001B[0m\u001B[1;33m:\u001B[0m\u001B[1;33m\u001B[0m\u001B[1;33m\u001B[0m\u001B[0m\n\u001B[1;32m--> 421\u001B[1;33m             \u001B[0mX\u001B[0m \u001B[1;33m=\u001B[0m \u001B[0mcheck_array\u001B[0m\u001B[1;33m(\u001B[0m\u001B[0mX\u001B[0m\u001B[1;33m,\u001B[0m \u001B[1;33m**\u001B[0m\u001B[0mcheck_params\u001B[0m\u001B[1;33m)\u001B[0m\u001B[1;33m\u001B[0m\u001B[1;33m\u001B[0m\u001B[0m\n\u001B[0m\u001B[0;32m    422\u001B[0m             \u001B[0mout\u001B[0m \u001B[1;33m=\u001B[0m \u001B[0mX\u001B[0m\u001B[1;33m\u001B[0m\u001B[1;33m\u001B[0m\u001B[0m\n\u001B[0;32m    423\u001B[0m         \u001B[1;32melse\u001B[0m\u001B[1;33m:\u001B[0m\u001B[1;33m\u001B[0m\u001B[1;33m\u001B[0m\u001B[0m\n",
      "\u001B[1;32m~\\AppData\\Roaming\\Python\\Python37\\site-packages\\sklearn\\utils\\validation.py\u001B[0m in \u001B[0;36minner_f\u001B[1;34m(*args, **kwargs)\u001B[0m\n\u001B[0;32m     61\u001B[0m             \u001B[0mextra_args\u001B[0m \u001B[1;33m=\u001B[0m \u001B[0mlen\u001B[0m\u001B[1;33m(\u001B[0m\u001B[0margs\u001B[0m\u001B[1;33m)\u001B[0m \u001B[1;33m-\u001B[0m \u001B[0mlen\u001B[0m\u001B[1;33m(\u001B[0m\u001B[0mall_args\u001B[0m\u001B[1;33m)\u001B[0m\u001B[1;33m\u001B[0m\u001B[1;33m\u001B[0m\u001B[0m\n\u001B[0;32m     62\u001B[0m             \u001B[1;32mif\u001B[0m \u001B[0mextra_args\u001B[0m \u001B[1;33m<=\u001B[0m \u001B[1;36m0\u001B[0m\u001B[1;33m:\u001B[0m\u001B[1;33m\u001B[0m\u001B[1;33m\u001B[0m\u001B[0m\n\u001B[1;32m---> 63\u001B[1;33m                 \u001B[1;32mreturn\u001B[0m \u001B[0mf\u001B[0m\u001B[1;33m(\u001B[0m\u001B[1;33m*\u001B[0m\u001B[0margs\u001B[0m\u001B[1;33m,\u001B[0m \u001B[1;33m**\u001B[0m\u001B[0mkwargs\u001B[0m\u001B[1;33m)\u001B[0m\u001B[1;33m\u001B[0m\u001B[1;33m\u001B[0m\u001B[0m\n\u001B[0m\u001B[0;32m     64\u001B[0m \u001B[1;33m\u001B[0m\u001B[0m\n\u001B[0;32m     65\u001B[0m             \u001B[1;31m# extra_args > 0\u001B[0m\u001B[1;33m\u001B[0m\u001B[1;33m\u001B[0m\u001B[1;33m\u001B[0m\u001B[0m\n",
      "\u001B[1;32m~\\AppData\\Roaming\\Python\\Python37\\site-packages\\sklearn\\utils\\validation.py\u001B[0m in \u001B[0;36mcheck_array\u001B[1;34m(array, accept_sparse, accept_large_sparse, dtype, order, copy, force_all_finite, ensure_2d, allow_nd, ensure_min_samples, ensure_min_features, estimator)\u001B[0m\n\u001B[0;32m    639\u001B[0m                     \u001B[1;34m\"Reshape your data either using array.reshape(-1, 1) if \"\u001B[0m\u001B[1;33m\u001B[0m\u001B[1;33m\u001B[0m\u001B[0m\n\u001B[0;32m    640\u001B[0m                     \u001B[1;34m\"your data has a single feature or array.reshape(1, -1) \"\u001B[0m\u001B[1;33m\u001B[0m\u001B[1;33m\u001B[0m\u001B[0m\n\u001B[1;32m--> 641\u001B[1;33m                     \"if it contains a single sample.\".format(array))\n\u001B[0m\u001B[0;32m    642\u001B[0m \u001B[1;33m\u001B[0m\u001B[0m\n\u001B[0;32m    643\u001B[0m         \u001B[1;31m# make sure we actually converted to numeric:\u001B[0m\u001B[1;33m\u001B[0m\u001B[1;33m\u001B[0m\u001B[1;33m\u001B[0m\u001B[0m\n",
      "\u001B[1;31mValueError\u001B[0m: Expected 2D array, got 1D array instead:\narray=[-1.3074431   0.28363693 -0.2467231  ...  0.28363693  0.813997\n  1.344357  ].\nReshape your data either using array.reshape(-1, 1) if your data has a single feature or array.reshape(1, -1) if it contains a single sample."
     ]
    }
   ],
   "source": [
    "model = train_model(PerfectPredictor(), get_predicted_outcome, X_train, y_train, X_test, y_test)"
   ]
  },
  {
   "cell_type": "code",
   "execution_count": 68,
   "metadata": {
    "pycharm": {
     "name": "#%%\n"
    }
   },
   "outputs": [],
   "source": [
    "#plot_rank(['price'], model, learning_data, get_predicted_rank)"
   ]
  },
  {
   "cell_type": "markdown",
   "metadata": {
    "pycharm": {
     "name": "#%% md\n"
    }
   },
   "source": [
    "# Rank with a Logistic Regression\n",
    "\n",
    "* Collect for each movie the buy probability from the raw events\n",
    "* Run a beta regression\n",
    "\n",
    "=> Expect the coefficients to represent the artificial probability function"
   ]
  },
  {
   "cell_type": "code",
   "execution_count": 52,
   "metadata": {
    "pycharm": {
     "name": "#%%\n"
    }
   },
   "outputs": [],
   "source": [
    "def get_predicted_outcome(model, data):\n",
    "    return np.argmax(model.predict_proba(data), axis=1).astype(np.float32)"
   ]
  },
  {
   "cell_type": "code",
   "execution_count": 55,
   "metadata": {
    "pycharm": {
     "name": "#%%\n"
    }
   },
   "outputs": [],
   "source": [
    "def get_predicted_rank(model, data):\n",
    "    return model.predict_proba(data)[:, 1]"
   ]
  },
  {
   "cell_type": "code",
   "execution_count": 56,
   "metadata": {
    "scrolled": true,
    "pycharm": {
     "name": "#%%\n"
    }
   },
   "outputs": [
    {
     "name": "stdout",
     "output_type": "stream",
     "text": [
      "train precision: 0.7081870682821877\n",
      "train recall: 0.7082539023423492\n",
      "train accuracy: 0.7084021012326351\n",
      "test precision: 0.7105501130369254\n",
      "test recall: 0.7094808126410835\n",
      "test accuracy: 0.7094571654909654\n"
     ]
    }
   ],
   "source": [
    "model = train_model(LogisticRegression(), get_predicted_outcome, X_train, y_train, X_test, y_test)"
   ]
  },
  {
   "cell_type": "code",
   "execution_count": 78,
   "metadata": {
    "pycharm": {
     "name": "#%%\n"
    }
   },
   "outputs": [
    {
     "data": {
      "text/plain": [
       "(2, 46)"
      ]
     },
     "execution_count": 78,
     "metadata": {},
     "output_type": "execute_result"
    }
   ],
   "source": [
    "xt.shape"
   ]
  },
  {
   "cell_type": "code",
   "execution_count": 77,
   "metadata": {
    "pycharm": {
     "name": "#%%\n"
    }
   },
   "outputs": [],
   "source": [
    "xt= X_test[:2]"
   ]
  },
  {
   "cell_type": "code",
   "execution_count": 67,
   "metadata": {
    "pycharm": {
     "name": "#%%\n"
    }
   },
   "outputs": [],
   "source": [
    "#plot_rank(['price'], model, learning_data, get_predicted_rank)"
   ]
  },
  {
   "cell_type": "markdown",
   "metadata": {
    "collapsed": true,
    "pycharm": {
     "name": "#%% md\n"
    }
   },
   "source": [
    "# Rank with Neural Network"
   ]
  },
  {
   "cell_type": "code",
   "execution_count": 53,
   "metadata": {
    "pycharm": {
     "name": "#%%\n"
    }
   },
   "outputs": [],
   "source": [
    "def nn():\n",
    "    return NeuralNet(\n",
    "        layers=[  # three layers: one hidden layer\n",
    "            ('input', layers.InputLayer),\n",
    "            ('hidden', layers.DenseLayer),\n",
    "            ('output', layers.DenseLayer),\n",
    "            ],\n",
    "        # layer parameters:\n",
    "        input_shape=(None, 23),  # this code won't compile without SIZE being set\n",
    "        hidden_num_units=46,  # number of units in hidden layer\n",
    "        output_nonlinearity=None,  # output layer uses identity function\n",
    "        output_num_units=1,  # this code won't compile without OUTPUTS being set\n",
    "\n",
    "        # optimization method:\n",
    "        update_learning_rate=0.01, \n",
    "        regression=True,  # If you're doing classification you want this off\n",
    "        max_epochs=50,  # more epochs can be good, \n",
    "        verbose=1, # enabled so that you see meaningful output when the program runs\n",
    "    )"
   ]
  },
  {
   "cell_type": "code",
   "execution_count": 54,
   "metadata": {
    "collapsed": true,
    "pycharm": {
     "name": "#%%\n"
    }
   },
   "outputs": [],
   "source": [
    "def get_predicted_outcome(model, data):\n",
    "    return np.rint(model.predict(data))"
   ]
  },
  {
   "cell_type": "code",
   "execution_count": 55,
   "metadata": {
    "collapsed": true,
    "pycharm": {
     "name": "#%%\n"
    }
   },
   "outputs": [],
   "source": [
    "def get_predicted_rank(model, data):\n",
    "    return model.predict(data)"
   ]
  },
  {
   "cell_type": "code",
   "execution_count": 56,
   "metadata": {
    "pycharm": {
     "name": "#%%\n"
    }
   },
   "outputs": [
    {
     "name": "stdout",
     "output_type": "stream",
     "text": [
      "# Neural Network with 1151 learnable parameters\n",
      "\n",
      "## Layer information\n",
      "\n",
      "  #  name      size\n",
      "---  ------  ------\n",
      "  0  input       23\n",
      "  1  hidden      46\n",
      "  2  output       1\n",
      "\n",
      "  epoch    trn loss    val loss    trn/val  dur\n",
      "-------  ----------  ----------  ---------  -----\n",
      "      1     \u001B[36m0.23083\u001B[0m     \u001B[32m0.20847\u001B[0m    1.10724  0.12s\n",
      "      2     \u001B[36m0.21426\u001B[0m     \u001B[32m0.20683\u001B[0m    1.03594  0.13s\n",
      "      3     \u001B[36m0.21253\u001B[0m     \u001B[32m0.20627\u001B[0m    1.03037  0.13s\n",
      "      4     \u001B[36m0.21168\u001B[0m     \u001B[32m0.20607\u001B[0m    1.02724  0.11s\n",
      "      5     \u001B[36m0.21114\u001B[0m     \u001B[32m0.20587\u001B[0m    1.02559  0.12s\n",
      "      6     \u001B[36m0.21078\u001B[0m     \u001B[32m0.20575\u001B[0m    1.02442  0.11s\n",
      "      7     \u001B[36m0.21051\u001B[0m     \u001B[32m0.20568\u001B[0m    1.02348  0.10s\n",
      "      8     \u001B[36m0.21029\u001B[0m     \u001B[32m0.20564\u001B[0m    1.02265  0.12s\n",
      "      9     \u001B[36m0.21013\u001B[0m     \u001B[32m0.20563\u001B[0m    1.02184  0.12s\n",
      "     10     \u001B[36m0.20998\u001B[0m     0.20568    1.02092  0.11s\n",
      "     11     \u001B[36m0.20985\u001B[0m     0.20572    1.02006  0.11s\n",
      "     12     \u001B[36m0.20973\u001B[0m     0.20574    1.01941  0.12s\n",
      "     13     \u001B[36m0.20962\u001B[0m     0.20574    1.01887  0.11s\n",
      "     14     \u001B[36m0.20953\u001B[0m     0.20577    1.01827  0.11s\n",
      "     15     \u001B[36m0.20945\u001B[0m     0.20581    1.01766  0.10s\n",
      "     16     \u001B[36m0.20937\u001B[0m     0.20582    1.01724  0.10s\n",
      "     17     \u001B[36m0.20930\u001B[0m     0.20586    1.01669  0.11s\n",
      "     18     \u001B[36m0.20922\u001B[0m     0.20592    1.01600  0.12s\n",
      "     19     \u001B[36m0.20915\u001B[0m     0.20598    1.01536  0.11s\n",
      "     20     \u001B[36m0.20908\u001B[0m     0.20603    1.01482  0.12s\n",
      "     21     \u001B[36m0.20902\u001B[0m     0.20607    1.01432  0.11s\n",
      "     22     \u001B[36m0.20896\u001B[0m     0.20613    1.01372  0.09s\n",
      "     23     \u001B[36m0.20890\u001B[0m     0.20618    1.01318  0.08s\n",
      "     24     \u001B[36m0.20884\u001B[0m     0.20621    1.01273  0.11s\n",
      "     25     \u001B[36m0.20878\u001B[0m     0.20626    1.01221  0.12s\n",
      "     26     \u001B[36m0.20873\u001B[0m     0.20628    1.01186  0.13s\n",
      "     27     \u001B[36m0.20868\u001B[0m     0.20633    1.01138  0.11s\n",
      "     28     \u001B[36m0.20863\u001B[0m     0.20637    1.01097  0.12s\n",
      "     29     \u001B[36m0.20859\u001B[0m     0.20640    1.01060  0.11s\n",
      "     30     \u001B[36m0.20855\u001B[0m     0.20643    1.01024  0.12s\n",
      "     31     \u001B[36m0.20851\u001B[0m     0.20646    1.00990  0.11s\n",
      "     32     \u001B[36m0.20847\u001B[0m     0.20650    1.00953  0.11s\n",
      "     33     \u001B[36m0.20843\u001B[0m     0.20652    1.00922  0.10s\n",
      "     34     \u001B[36m0.20839\u001B[0m     0.20656    1.00885  0.09s\n",
      "     35     \u001B[36m0.20835\u001B[0m     0.20660    1.00851  0.09s\n",
      "     36     \u001B[36m0.20832\u001B[0m     0.20664    1.00814  0.11s\n",
      "     37     \u001B[36m0.20828\u001B[0m     0.20668    1.00776  0.11s\n",
      "     38     \u001B[36m0.20824\u001B[0m     0.20670    1.00748  0.12s\n",
      "     39     \u001B[36m0.20820\u001B[0m     0.20675    1.00704  0.12s\n",
      "     40     \u001B[36m0.20816\u001B[0m     0.20679    1.00665  0.11s\n",
      "     41     \u001B[36m0.20813\u001B[0m     0.20683    1.00627  0.11s\n",
      "     42     \u001B[36m0.20809\u001B[0m     0.20688    1.00588  0.12s\n",
      "     43     \u001B[36m0.20806\u001B[0m     0.20692    1.00552  0.12s\n",
      "     44     \u001B[36m0.20802\u001B[0m     0.20697    1.00508  0.12s\n",
      "     45     \u001B[36m0.20799\u001B[0m     0.20702    1.00469  0.11s\n",
      "     46     \u001B[36m0.20796\u001B[0m     0.20706    1.00430  0.12s\n",
      "     47     \u001B[36m0.20792\u001B[0m     0.20711    1.00391  0.10s\n",
      "     48     \u001B[36m0.20788\u001B[0m     0.20716    1.00350  0.11s\n",
      "     49     \u001B[36m0.20785\u001B[0m     0.20720    1.00312  0.11s\n",
      "     50     \u001B[36m0.20781\u001B[0m     0.20725    1.00274  0.11s\n",
      "train precision: 0.698486217804\n",
      "train recall: 0.687534749249\n",
      "train accuracy: 0.65721971972\n",
      "test precision: 0.667556742323\n",
      "test recall: 0.679655641142\n",
      "test accuracy: 0.636136136136\n"
     ]
    }
   ],
   "source": [
    "model = train_model(\n",
    "    nn(), \n",
    "    get_predicted_outcome, \n",
    "    X_train.astype(np.float32), \n",
    "    y_train.astype(np.float32), \n",
    "    X_test.astype(np.float32), \n",
    "    y_test.astype(np.float32)\n",
    ")"
   ]
  },
  {
   "cell_type": "code",
   "execution_count": 95,
   "metadata": {
    "pycharm": {
     "name": "#%%\n"
    }
   },
   "outputs": [
    {
     "name": "stdout",
     "output_type": "stream",
     "text": [
      "overall input shape: (1681, 23)\n"
     ]
    },
    {
     "data": {
      "image/png": "[encoded data removed]",
      "text/plain": [
       "<matplotlib.figure.Figure at 0x110321c88>"
      ]
     },
     "metadata": {},
     "output_type": "display_data"
    }
   ],
   "source": [
    "plot_rank(['price'], model, learning_data, get_predicted_rank)"
   ]
  },
  {
   "cell_type": "markdown",
   "metadata": {
    "collapsed": true,
    "pycharm": {
     "name": "#%% md\n"
    }
   },
   "source": [
    "# Rank with Decision Trees"
   ]
  },
  {
   "cell_type": "code",
   "execution_count": 70,
   "metadata": {
    "pycharm": {
     "name": "#%%\n"
    }
   },
   "outputs": [],
   "source": [
    "def get_predicted_outcome(model, data):\n",
    "    return np.argmax(model.predict_proba(data), axis=1).astype(np.float32)"
   ]
  },
  {
   "cell_type": "code",
   "execution_count": 71,
   "metadata": {
    "pycharm": {
     "name": "#%%\n"
    }
   },
   "outputs": [],
   "source": [
    "def get_predicted_rank(model, data):\n",
    "    return model.predict_proba(data)[:, 1]"
   ]
  },
  {
   "cell_type": "code",
   "execution_count": 72,
   "metadata": {
    "pycharm": {
     "name": "#%%\n"
    }
   },
   "outputs": [
    {
     "name": "stdout",
     "output_type": "stream",
     "text": [
      "train precision: 0.9979381833314418\n",
      "train recall: 0.9957720692323663\n",
      "train accuracy: 0.9968594682787434\n",
      "test precision: 0.9069241212852617\n",
      "test recall: 0.9047404063205418\n",
      "test accuracy: 0.9056924063525595\n"
     ]
    }
   ],
   "source": [
    "from sklearn import tree\n",
    "model = train_model(tree.DecisionTreeClassifier(), get_predicted_outcome, X_train, y_train, X_test, y_test)"
   ]
  },
  {
   "cell_type": "code",
   "execution_count": 99,
   "metadata": {
    "pycharm": {
     "name": "#%%\n"
    }
   },
   "outputs": [
    {
     "name": "stdout",
     "output_type": "stream",
     "text": [
      "overall input shape: (1681, 23)\n"
     ]
    },
    {
     "data": {
      "image/png": "[encoded data removed]",
      "text/plain": [
       "<matplotlib.figure.Figure at 0x11032d080>"
      ]
     },
     "metadata": {},
     "output_type": "display_data"
    }
   ],
   "source": [
    "plot_rank(['price'], model, learning_data, get_predicted_rank)"
   ]
  },
  {
   "cell_type": "markdown",
   "metadata": {
    "pycharm": {
     "name": "#%% md\n"
    }
   },
   "source": [
    "# Customers with non-linear buying behaviour"
   ]
  },
  {
   "cell_type": "code",
   "execution_count": 100,
   "metadata": {
    "pycharm": {
     "name": "#%%\n"
    }
   },
   "outputs": [],
   "source": [
    "price_component = np.sqrt(movie_data['price'] * 0.1)\n",
    "ratings_component = np.sqrt(movie_data['ratings_average'] * 0.1 * 2)\n",
    "movie_data['buy_probability'] = 1 - price_component * 0.2 - ratings_component * 0.8"
   ]
  },
  {
   "cell_type": "code",
   "execution_count": 101,
   "metadata": {
    "pycharm": {
     "name": "#%%\n"
    }
   },
   "outputs": [
    {
     "data": {
      "image/png": "[encoded data removed]",
      "text/plain": [
       "<matplotlib.figure.Figure at 0x10f437630>"
      ]
     },
     "metadata": {},
     "output_type": "display_data"
    }
   ],
   "source": [
    "plot_distributions(movie_data)"
   ]
  },
  {
   "cell_type": "code",
   "execution_count": 102,
   "metadata": {
    "pycharm": {
     "name": "#%%\n"
    }
   },
   "outputs": [
    {
     "data": {
      "image/png": "[encoded data removed]",
      "text/plain": [
       "<matplotlib.figure.Figure at 0x1121019e8>"
      ]
     },
     "metadata": {},
     "output_type": "display_data"
    }
   ],
   "source": [
    "plt.subplot(2, 1, 1)\n",
    "plt.plot(movie_data['price'].values, movie_data['buy_probability'].values, 'ro') # ro = red circles\n",
    "plt.xlabel('price')\n",
    "plt.ylabel('buy_probability')\n",
    "\n",
    "plt.subplot(2, 1, 2)\n",
    "plt.plot(movie_data['ratings_average'].values, movie_data['buy_probability'].values, 'ro') # ro = red circles\n",
    "plt.xlabel('ratings_average')\n",
    "plt.ylabel('buy_probability')\n",
    "\n",
    "plt.tight_layout()\n",
    "plt.show()"
   ]
  },
  {
   "cell_type": "markdown",
   "metadata": {
    "pycharm": {
     "name": "#%% md\n"
    }
   },
   "source": [
    "# Create events"
   ]
  },
  {
   "cell_type": "code",
   "execution_count": 103,
   "metadata": {
    "collapsed": true,
    "pycharm": {
     "name": "#%%\n"
    }
   },
   "outputs": [],
   "source": [
    "learning_data = build_learning_data_from(movie_data)"
   ]
  },
  {
   "cell_type": "code",
   "execution_count": 69,
   "metadata": {
    "pycharm": {
     "name": "#%%\n"
    }
   },
   "outputs": [],
   "source": [
    "positive_events, negative_events = generate_events()\n",
    "events_data = build_events_data(positive_events, negative_events, learning_data)\n",
    "save_events_data(events_data, learning_data, 'nonlinear')"
   ]
  },
  {
   "cell_type": "code",
   "execution_count": 104,
   "metadata": {
    "collapsed": true,
    "pycharm": {
     "name": "#%%\n"
    }
   },
   "outputs": [],
   "source": [
    "events_data, feature_columns = load_events_data('nonlinear')"
   ]
  },
  {
   "cell_type": "code",
   "execution_count": 105,
   "metadata": {
    "pycharm": {
     "name": "#%%\n"
    }
   },
   "outputs": [
    {
     "data": {
      "image/png": "[encoded data removed]",
      "text/plain": [
       "<matplotlib.figure.Figure at 0x112279320>"
      ]
     },
     "metadata": {},
     "output_type": "display_data"
    }
   ],
   "source": [
    "plot_events_distribution(events_data)"
   ]
  },
  {
   "cell_type": "code",
   "execution_count": 106,
   "metadata": {
    "pycharm": {
     "name": "#%%\n"
    }
   },
   "outputs": [
    {
     "name": "stdout",
     "output_type": "stream",
     "text": [
      "overall input shape: (399980, 23)\n",
      "overall output shape: (399980,)\n",
      "training input shape: (319984, 23)\n",
      "training output shape: (319984,)\n",
      "testing input shape: (79996, 23)\n",
      "testing output shape: (79996,)\n"
     ]
    }
   ],
   "source": [
    "X_train, X_test, y_train, y_test = get_test_train_data(events_data)"
   ]
  },
  {
   "cell_type": "markdown",
   "metadata": {
    "pycharm": {
     "name": "#%% md\n"
    }
   },
   "source": [
    "# Rank with the perfect predictor"
   ]
  },
  {
   "cell_type": "code",
   "execution_count": 124,
   "metadata": {
    "collapsed": true,
    "pycharm": {
     "name": "#%%\n"
    }
   },
   "outputs": [],
   "source": [
    "def get_predicted_outcome(model, data):\n",
    "    return np.rint(model.predict(data))"
   ]
  },
  {
   "cell_type": "code",
   "execution_count": 125,
   "metadata": {
    "collapsed": true,
    "pycharm": {
     "name": "#%%\n"
    }
   },
   "outputs": [],
   "source": [
    "def get_predicted_rank(model, data):\n",
    "    return model.predict(data)"
   ]
  },
  {
   "cell_type": "code",
   "execution_count": 126,
   "metadata": {
    "collapsed": true,
    "pycharm": {
     "name": "#%%\n"
    }
   },
   "outputs": [],
   "source": [
    "import warnings\n",
    "warnings.filterwarnings(\"ignore\", category=DeprecationWarning)"
   ]
  },
  {
   "cell_type": "code",
   "execution_count": 127,
   "metadata": {
    "pycharm": {
     "name": "#%%\n"
    }
   },
   "outputs": [],
   "source": [
    "class PerfectPredictor:\n",
    "    def fit(self, X, y):\n",
    "        return None\n",
    "    \n",
    "    def predict(self, X):\n",
    "        min_max_scaler = preprocessing.MinMaxScaler()\n",
    "        price_component = np.sqrt(min_max_scaler.fit_transform(X[:, -5]))\n",
    "        ratings_component = np.sqrt(min_max_scaler.fit_transform(X[:, -4]))\n",
    "        return 1 - price_component * 0.2 - ratings_component * 0.8"
   ]
  },
  {
   "cell_type": "code",
   "execution_count": 128,
   "metadata": {
    "pycharm": {
     "name": "#%%\n"
    }
   },
   "outputs": [
    {
     "name": "stdout",
     "output_type": "stream",
     "text": [
      "train precision: 0.515083321464\n",
      "train recall: 0.226469446288\n",
      "train accuracy: 0.753787689384\n",
      "test precision: 0.513203730756\n",
      "test recall: 0.228281515545\n",
      "test accuracy: 0.752850142507\n",
      "overall input shape: (1681, 23)\n"
     ]
    },
    {
     "data": {
      "image/png": "[encoded data removed]",
      "text/plain": [
       "<matplotlib.figure.Figure at 0x112312860>"
      ]
     },
     "metadata": {},
     "output_type": "display_data"
    }
   ],
   "source": [
    "model = train_model(PerfectPredictor(), get_predicted_outcome, X_train, y_train, X_test, y_test)\n",
    "plot_rank(['price', 'ratings_average'], model, learning_data, get_predicted_rank)"
   ]
  },
  {
   "cell_type": "markdown",
   "metadata": {
    "pycharm": {
     "name": "#%% md\n"
    }
   },
   "source": [
    "# Rank with Logistic Regression"
   ]
  },
  {
   "cell_type": "code",
   "execution_count": 107,
   "metadata": {
    "collapsed": true,
    "pycharm": {
     "name": "#%%\n"
    }
   },
   "outputs": [],
   "source": [
    "def get_predicted_outcome(model, data):\n",
    "    return np.argmax(model.predict_proba(data), axis=1).astype(np.float32)"
   ]
  },
  {
   "cell_type": "code",
   "execution_count": 108,
   "metadata": {
    "collapsed": true,
    "pycharm": {
     "name": "#%%\n"
    }
   },
   "outputs": [],
   "source": [
    "def get_predicted_rank(model, data):\n",
    "    return model.predict_proba(data)[:, 1]"
   ]
  },
  {
   "cell_type": "code",
   "execution_count": 109,
   "metadata": {
    "pycharm": {
     "name": "#%%\n"
    }
   },
   "outputs": [
    {
     "name": "stdout",
     "output_type": "stream",
     "text": [
      "train precision: 0.613005193046\n",
      "train recall: 0.136016933231\n",
      "train accuracy: 0.762991274564\n",
      "test precision: 0.605217010083\n",
      "test recall: 0.138008597421\n",
      "test accuracy: 0.761913095655\n"
     ]
    }
   ],
   "source": [
    "model = train_model(LogisticRegression(), get_predicted_outcome, X_train, y_train, X_test, y_test)"
   ]
  },
  {
   "cell_type": "code",
   "execution_count": 110,
   "metadata": {
    "pycharm": {
     "name": "#%%\n"
    }
   },
   "outputs": [
    {
     "name": "stdout",
     "output_type": "stream",
     "text": [
      "overall input shape: (1681, 23)\n"
     ]
    },
    {
     "data": {
      "image/png": "[encoded data removed]",
      "text/plain": [
       "<matplotlib.figure.Figure at 0x110799278>"
      ]
     },
     "metadata": {},
     "output_type": "display_data"
    }
   ],
   "source": [
    "plot_rank(['price', 'ratings_average'], model, learning_data, get_predicted_rank)"
   ]
  },
  {
   "cell_type": "markdown",
   "metadata": {
    "pycharm": {
     "name": "#%% md\n"
    }
   },
   "source": [
    "# Rank with Neural Networks"
   ]
  },
  {
   "cell_type": "code",
   "execution_count": 33,
   "metadata": {
    "collapsed": true,
    "pycharm": {
     "name": "#%%\n"
    }
   },
   "outputs": [],
   "source": [
    "def get_predicted_outcome(model, data):\n",
    "    return np.rint(model.predict(data))"
   ]
  },
  {
   "cell_type": "code",
   "execution_count": 34,
   "metadata": {
    "collapsed": true,
    "pycharm": {
     "name": "#%%\n"
    }
   },
   "outputs": [],
   "source": [
    "def get_predicted_rank(model, data):\n",
    "    return model.predict(data)"
   ]
  },
  {
   "cell_type": "code",
   "execution_count": null,
   "metadata": {
    "pycharm": {
     "name": "#%%\n"
    }
   },
   "outputs": [],
   "source": [
    "model = train_model(\n",
    "    nn(), \n",
    "    get_predicted_outcome, \n",
    "    X_train.astype(np.float32), \n",
    "    y_train.astype(np.float32), \n",
    "    X_test.astype(np.float32), \n",
    "    y_test.astype(np.float32)\n",
    ")"
   ]
  },
  {
   "cell_type": "code",
   "execution_count": 114,
   "metadata": {
    "pycharm": {
     "name": "#%%\n"
    }
   },
   "outputs": [
    {
     "name": "stdout",
     "output_type": "stream",
     "text": [
      "overall input shape: (1681, 23)\n"
     ]
    },
    {
     "data": {
      "image/png": "[encoded data removed]",
      "text/plain": [
       "<matplotlib.figure.Figure at 0x1120a5eb8>"
      ]
     },
     "metadata": {},
     "output_type": "display_data"
    }
   ],
   "source": [
    "plot_rank(['price', 'ratings_average'], model, learning_data, get_predicted_rank)"
   ]
  },
  {
   "cell_type": "markdown",
   "metadata": {
    "collapsed": true,
    "pycharm": {
     "name": "#%% md\n"
    }
   },
   "source": [
    "# Rank with Decision Trees"
   ]
  },
  {
   "cell_type": "code",
   "execution_count": 80,
   "metadata": {
    "pycharm": {
     "name": "#%%\n"
    }
   },
   "outputs": [],
   "source": [
    "def get_predicted_outcome(model, data):\n",
    "    return np.argmax(model.predict_proba(data), axis=1).astype(np.float32)"
   ]
  },
  {
   "cell_type": "code",
   "execution_count": 81,
   "metadata": {
    "pycharm": {
     "name": "#%%\n"
    }
   },
   "outputs": [],
   "source": [
    "def get_predicted_rank(model, data):\n",
    "    return model.predict_proba(data)[:, 1]"
   ]
  },
  {
   "cell_type": "code",
   "execution_count": 82,
   "metadata": {
    "pycharm": {
     "name": "#%%\n"
    }
   },
   "outputs": [
    {
     "name": "stdout",
     "output_type": "stream",
     "text": [
      "train precision: 0.9979381833314418\n",
      "train recall: 0.9957720692323663\n",
      "train accuracy: 0.9968594682787434\n",
      "test precision: 0.9087340529931305\n",
      "test recall: 0.9057938299473288\n",
      "test accuracy: 0.9071636048134596\n"
     ]
    }
   ],
   "source": [
    "from sklearn import tree\n",
    "model = train_model(tree.DecisionTreeClassifier(), get_predicted_outcome, X_train, y_train, X_test, y_test)"
   ]
  },
  {
   "cell_type": "code",
   "execution_count": 83,
   "metadata": {
    "pycharm": {
     "name": "#%%\n"
    }
   },
   "outputs": [
    {
     "name": "stdout",
     "output_type": "stream",
     "text": [
      "overall input shape: (1681, 23)\n"
     ]
    },
    {
     "ename": "ValueError",
     "evalue": "X has 23 features, but DecisionTreeClassifier is expecting 46 features as input.",
     "output_type": "error",
     "traceback": [
      "\u001B[1;31m---------------------------------------------------------------------------\u001B[0m",
      "\u001B[1;31mValueError\u001B[0m                                Traceback (most recent call last)",
      "\u001B[1;32m<ipython-input-83-a83f92950252>\u001B[0m in \u001B[0;36m<module>\u001B[1;34m\u001B[0m\n\u001B[1;32m----> 1\u001B[1;33m \u001B[0mplot_rank\u001B[0m\u001B[1;33m(\u001B[0m\u001B[1;33m[\u001B[0m\u001B[1;34m'price'\u001B[0m\u001B[1;33m,\u001B[0m \u001B[1;34m'ratings_average'\u001B[0m\u001B[1;33m]\u001B[0m\u001B[1;33m,\u001B[0m \u001B[0mmodel\u001B[0m\u001B[1;33m,\u001B[0m \u001B[0mlearning_data\u001B[0m\u001B[1;33m,\u001B[0m \u001B[0mget_predicted_rank\u001B[0m\u001B[1;33m)\u001B[0m\u001B[1;33m\u001B[0m\u001B[1;33m\u001B[0m\u001B[0m\n\u001B[0m",
      "\u001B[1;32m<ipython-input-54-0db78936f743>\u001B[0m in \u001B[0;36mplot_rank\u001B[1;34m(features, model, learning_data, predict_fun)\u001B[0m\n\u001B[0;32m      4\u001B[0m \u001B[1;33m\u001B[0m\u001B[0m\n\u001B[0;32m      5\u001B[0m     \u001B[0mlearning_data_with_rank\u001B[0m \u001B[1;33m=\u001B[0m \u001B[0mlearning_data\u001B[0m\u001B[1;33m.\u001B[0m\u001B[0mcopy\u001B[0m\u001B[1;33m(\u001B[0m\u001B[1;33m)\u001B[0m\u001B[1;33m\u001B[0m\u001B[1;33m\u001B[0m\u001B[0m\n\u001B[1;32m----> 6\u001B[1;33m     \u001B[0mlearning_data_with_rank\u001B[0m\u001B[1;33m[\u001B[0m\u001B[1;34m'rank'\u001B[0m\u001B[1;33m]\u001B[0m \u001B[1;33m=\u001B[0m \u001B[0mpredict_fun\u001B[0m\u001B[1;33m(\u001B[0m\u001B[0mmodel\u001B[0m\u001B[1;33m,\u001B[0m \u001B[0mlg_input\u001B[0m\u001B[1;33m)\u001B[0m\u001B[1;33m\u001B[0m\u001B[1;33m\u001B[0m\u001B[0m\n\u001B[0m\u001B[0;32m      7\u001B[0m \u001B[1;33m\u001B[0m\u001B[0m\n\u001B[0;32m      8\u001B[0m     \u001B[1;32mfor\u001B[0m \u001B[0midx\u001B[0m\u001B[1;33m,\u001B[0m \u001B[0mfeature\u001B[0m \u001B[1;32min\u001B[0m \u001B[0menumerate\u001B[0m\u001B[1;33m(\u001B[0m\u001B[0mfeatures\u001B[0m\u001B[1;33m)\u001B[0m\u001B[1;33m:\u001B[0m\u001B[1;33m\u001B[0m\u001B[1;33m\u001B[0m\u001B[0m\n",
      "\u001B[1;32m<ipython-input-81-e2f0a420d94c>\u001B[0m in \u001B[0;36mget_predicted_rank\u001B[1;34m(model, data)\u001B[0m\n\u001B[0;32m      1\u001B[0m \u001B[1;32mdef\u001B[0m \u001B[0mget_predicted_rank\u001B[0m\u001B[1;33m(\u001B[0m\u001B[0mmodel\u001B[0m\u001B[1;33m,\u001B[0m \u001B[0mdata\u001B[0m\u001B[1;33m)\u001B[0m\u001B[1;33m:\u001B[0m\u001B[1;33m\u001B[0m\u001B[1;33m\u001B[0m\u001B[0m\n\u001B[1;32m----> 2\u001B[1;33m     \u001B[1;32mreturn\u001B[0m \u001B[0mmodel\u001B[0m\u001B[1;33m.\u001B[0m\u001B[0mpredict_proba\u001B[0m\u001B[1;33m(\u001B[0m\u001B[0mdata\u001B[0m\u001B[1;33m)\u001B[0m\u001B[1;33m[\u001B[0m\u001B[1;33m:\u001B[0m\u001B[1;33m,\u001B[0m \u001B[1;36m1\u001B[0m\u001B[1;33m]\u001B[0m\u001B[1;33m\u001B[0m\u001B[1;33m\u001B[0m\u001B[0m\n\u001B[0m",
      "\u001B[1;32m~\\miniconda3\\lib\\site-packages\\sklearn\\tree\\_classes.py\u001B[0m in \u001B[0;36mpredict_proba\u001B[1;34m(self, X, check_input)\u001B[0m\n\u001B[0;32m   1000\u001B[0m         \"\"\"\n\u001B[0;32m   1001\u001B[0m         \u001B[0mcheck_is_fitted\u001B[0m\u001B[1;33m(\u001B[0m\u001B[0mself\u001B[0m\u001B[1;33m)\u001B[0m\u001B[1;33m\u001B[0m\u001B[1;33m\u001B[0m\u001B[0m\n\u001B[1;32m-> 1002\u001B[1;33m         \u001B[0mX\u001B[0m \u001B[1;33m=\u001B[0m \u001B[0mself\u001B[0m\u001B[1;33m.\u001B[0m\u001B[0m_validate_X_predict\u001B[0m\u001B[1;33m(\u001B[0m\u001B[0mX\u001B[0m\u001B[1;33m,\u001B[0m \u001B[0mcheck_input\u001B[0m\u001B[1;33m)\u001B[0m\u001B[1;33m\u001B[0m\u001B[1;33m\u001B[0m\u001B[0m\n\u001B[0m\u001B[0;32m   1003\u001B[0m         \u001B[0mproba\u001B[0m \u001B[1;33m=\u001B[0m \u001B[0mself\u001B[0m\u001B[1;33m.\u001B[0m\u001B[0mtree_\u001B[0m\u001B[1;33m.\u001B[0m\u001B[0mpredict\u001B[0m\u001B[1;33m(\u001B[0m\u001B[0mX\u001B[0m\u001B[1;33m)\u001B[0m\u001B[1;33m\u001B[0m\u001B[1;33m\u001B[0m\u001B[0m\n\u001B[0;32m   1004\u001B[0m \u001B[1;33m\u001B[0m\u001B[0m\n",
      "\u001B[1;32m~\\miniconda3\\lib\\site-packages\\sklearn\\tree\\_classes.py\u001B[0m in \u001B[0;36m_validate_X_predict\u001B[1;34m(self, X, check_input)\u001B[0m\n\u001B[0;32m    469\u001B[0m         \u001B[1;34m\"\"\"Validate the training data on predict (probabilities).\"\"\"\u001B[0m\u001B[1;33m\u001B[0m\u001B[1;33m\u001B[0m\u001B[0m\n\u001B[0;32m    470\u001B[0m         \u001B[1;32mif\u001B[0m \u001B[0mcheck_input\u001B[0m\u001B[1;33m:\u001B[0m\u001B[1;33m\u001B[0m\u001B[1;33m\u001B[0m\u001B[0m\n\u001B[1;32m--> 471\u001B[1;33m             \u001B[0mX\u001B[0m \u001B[1;33m=\u001B[0m \u001B[0mself\u001B[0m\u001B[1;33m.\u001B[0m\u001B[0m_validate_data\u001B[0m\u001B[1;33m(\u001B[0m\u001B[0mX\u001B[0m\u001B[1;33m,\u001B[0m \u001B[0mdtype\u001B[0m\u001B[1;33m=\u001B[0m\u001B[0mDTYPE\u001B[0m\u001B[1;33m,\u001B[0m \u001B[0maccept_sparse\u001B[0m\u001B[1;33m=\u001B[0m\u001B[1;34m\"csr\"\u001B[0m\u001B[1;33m,\u001B[0m \u001B[0mreset\u001B[0m\u001B[1;33m=\u001B[0m\u001B[1;32mFalse\u001B[0m\u001B[1;33m)\u001B[0m\u001B[1;33m\u001B[0m\u001B[1;33m\u001B[0m\u001B[0m\n\u001B[0m\u001B[0;32m    472\u001B[0m             if issparse(X) and (\n\u001B[0;32m    473\u001B[0m                 \u001B[0mX\u001B[0m\u001B[1;33m.\u001B[0m\u001B[0mindices\u001B[0m\u001B[1;33m.\u001B[0m\u001B[0mdtype\u001B[0m \u001B[1;33m!=\u001B[0m \u001B[0mnp\u001B[0m\u001B[1;33m.\u001B[0m\u001B[0mintc\u001B[0m \u001B[1;32mor\u001B[0m \u001B[0mX\u001B[0m\u001B[1;33m.\u001B[0m\u001B[0mindptr\u001B[0m\u001B[1;33m.\u001B[0m\u001B[0mdtype\u001B[0m \u001B[1;33m!=\u001B[0m \u001B[0mnp\u001B[0m\u001B[1;33m.\u001B[0m\u001B[0mintc\u001B[0m\u001B[1;33m\u001B[0m\u001B[1;33m\u001B[0m\u001B[0m\n",
      "\u001B[1;32m~\\miniconda3\\lib\\site-packages\\sklearn\\base.py\u001B[0m in \u001B[0;36m_validate_data\u001B[1;34m(self, X, y, reset, validate_separately, **check_params)\u001B[0m\n\u001B[0;32m    598\u001B[0m \u001B[1;33m\u001B[0m\u001B[0m\n\u001B[0;32m    599\u001B[0m         \u001B[1;32mif\u001B[0m \u001B[1;32mnot\u001B[0m \u001B[0mno_val_X\u001B[0m \u001B[1;32mand\u001B[0m \u001B[0mcheck_params\u001B[0m\u001B[1;33m.\u001B[0m\u001B[0mget\u001B[0m\u001B[1;33m(\u001B[0m\u001B[1;34m\"ensure_2d\"\u001B[0m\u001B[1;33m,\u001B[0m \u001B[1;32mTrue\u001B[0m\u001B[1;33m)\u001B[0m\u001B[1;33m:\u001B[0m\u001B[1;33m\u001B[0m\u001B[1;33m\u001B[0m\u001B[0m\n\u001B[1;32m--> 600\u001B[1;33m             \u001B[0mself\u001B[0m\u001B[1;33m.\u001B[0m\u001B[0m_check_n_features\u001B[0m\u001B[1;33m(\u001B[0m\u001B[0mX\u001B[0m\u001B[1;33m,\u001B[0m \u001B[0mreset\u001B[0m\u001B[1;33m=\u001B[0m\u001B[0mreset\u001B[0m\u001B[1;33m)\u001B[0m\u001B[1;33m\u001B[0m\u001B[1;33m\u001B[0m\u001B[0m\n\u001B[0m\u001B[0;32m    601\u001B[0m \u001B[1;33m\u001B[0m\u001B[0m\n\u001B[0;32m    602\u001B[0m         \u001B[1;32mreturn\u001B[0m \u001B[0mout\u001B[0m\u001B[1;33m\u001B[0m\u001B[1;33m\u001B[0m\u001B[0m\n",
      "\u001B[1;32m~\\miniconda3\\lib\\site-packages\\sklearn\\base.py\u001B[0m in \u001B[0;36m_check_n_features\u001B[1;34m(self, X, reset)\u001B[0m\n\u001B[0;32m    398\u001B[0m \u001B[1;33m\u001B[0m\u001B[0m\n\u001B[0;32m    399\u001B[0m         \u001B[1;32mif\u001B[0m \u001B[0mn_features\u001B[0m \u001B[1;33m!=\u001B[0m \u001B[0mself\u001B[0m\u001B[1;33m.\u001B[0m\u001B[0mn_features_in_\u001B[0m\u001B[1;33m:\u001B[0m\u001B[1;33m\u001B[0m\u001B[1;33m\u001B[0m\u001B[0m\n\u001B[1;32m--> 400\u001B[1;33m             raise ValueError(\n\u001B[0m\u001B[0;32m    401\u001B[0m                 \u001B[1;34mf\"X has {n_features} features, but {self.__class__.__name__} \"\u001B[0m\u001B[1;33m\u001B[0m\u001B[1;33m\u001B[0m\u001B[0m\n\u001B[0;32m    402\u001B[0m                 \u001B[1;34mf\"is expecting {self.n_features_in_} features as input.\"\u001B[0m\u001B[1;33m\u001B[0m\u001B[1;33m\u001B[0m\u001B[0m\n",
      "\u001B[1;31mValueError\u001B[0m: X has 23 features, but DecisionTreeClassifier is expecting 46 features as input."
     ]
    }
   ],
   "source": [
    "plot_rank(['price', 'ratings_average'], model, learning_data, get_predicted_rank)"
   ]
  },
  {
   "cell_type": "markdown",
   "metadata": {
    "collapsed": true,
    "pycharm": {
     "name": "#%% md\n"
    }
   },
   "source": [
    "# Pairwise learning"
   ]
  },
  {
   "cell_type": "code",
   "execution_count": 95,
   "metadata": {
    "collapsed": true,
    "pycharm": {
     "name": "#%%\n"
    }
   },
   "outputs": [],
   "source": [
    "def nn():\n",
    "    return NeuralNet(\n",
    "        layers=[  # three layers: one hidden layer\n",
    "            ('input', layers.InputLayer),\n",
    "            ('hidden', layers.DenseLayer),\n",
    "            ('output', layers.DenseLayer),\n",
    "            ],\n",
    "        # layer parameters:\n",
    "        input_shape=(None, 46),  # this code won't compile without SIZE being set\n",
    "        hidden_num_units=92,  # number of units in hidden layer\n",
    "        output_nonlinearity=None,  # output layer uses identity function\n",
    "        output_num_units=1,  # this code won't compile without OUTPUTS being set\n",
    "\n",
    "        # optimization method:\n",
    "        update_learning_rate=0.01, \n",
    "        regression=True,  # If you're doing classification you want this off\n",
    "        max_epochs=50,  # more epochs can be good, \n",
    "        verbose=1, # enabled so that you see meaningful output when the program runs\n",
    "    )"
   ]
  },
  {
   "cell_type": "code",
   "execution_count": 96,
   "metadata": {
    "collapsed": true,
    "pycharm": {
     "name": "#%%\n"
    }
   },
   "outputs": [],
   "source": [
    "def get_predicted_outcome(model, data):\n",
    "    return np.rint(model.predict(data))"
   ]
  },
  {
   "cell_type": "code",
   "execution_count": 97,
   "metadata": {
    "collapsed": true,
    "pycharm": {
     "name": "#%%\n"
    }
   },
   "outputs": [],
   "source": [
    "def plot_rank_for_pairwise(features, model, learning_data, predict_fun):\n",
    "    learning_data_with_rank = learning_data.copy()\n",
    "    learning_data_with_rank = predict_fun(model, learning_data_with_rank)\n",
    "    \n",
    "    for idx, feature in enumerate(features):\n",
    "        plt.subplot(len(features), 1, idx + 1)\n",
    "        plt.plot(learning_data_with_rank[feature].values, learning_data_with_rank['rank'].values, 'ro')\n",
    "        plt.xlabel(feature)\n",
    "        plt.ylabel('rank')\n",
    "        \n",
    "    plt.tight_layout()\n",
    "    plt.show()"
   ]
  },
  {
   "cell_type": "code",
   "execution_count": 98,
   "metadata": {
    "collapsed": true,
    "pycharm": {
     "name": "#%%\n"
    }
   },
   "outputs": [],
   "source": [
    "def get_predicted_rank(model, data):\n",
    "    cached_preference = {}\n",
    "\n",
    "    def preference(x, y):\n",
    "        if cached_preference.get((x, y)) is not None:\n",
    "            return cached_preference[x, y]\n",
    "        \n",
    "        x_v = data.loc[x].values\n",
    "        y_v = data.loc[y].values\n",
    "        cached_preference[x, y] = model.predict(np.array([np.concatenate([x_v, y_v])]))\n",
    "        return cached_preference[x, y]\n",
    "        \n",
    "    g = GreedyOrder(data.index, preference)\n",
    "    order = g.run()\n",
    "    for i, row in data.iterrows():\n",
    "        data.loc[i, 'rank'] = 1 - (order.index(i) / float(len(order)))\n",
    "    \n",
    "    return data"
   ]
  },
  {
   "cell_type": "code",
   "execution_count": 99,
   "metadata": {
    "collapsed": true,
    "pycharm": {
     "name": "#%%\n"
    }
   },
   "outputs": [],
   "source": [
    "from importlib import reload\n",
    "import greedy_order\n",
    "reload(greedy_order)\n",
    "from greedy_order import *"
   ]
  },
  {
   "cell_type": "code",
   "execution_count": 100,
   "metadata": {
    "pycharm": {
     "name": "#%%\n"
    }
   },
   "outputs": [
    {
     "name": "stdout",
     "output_type": "stream",
     "text": [
      "# Neural Network with 4417 learnable parameters\n",
      "\n",
      "## Layer information\n",
      "\n",
      "  #  name      size\n",
      "---  ------  ------\n",
      "  0  input       46\n",
      "  1  hidden      92\n",
      "  2  output       1\n",
      "\n",
      "  epoch    trn loss    val loss    trn/val  dur\n",
      "-------  ----------  ----------  ---------  -----\n",
      "      1     \u001B[36m0.19161\u001B[0m     \u001B[32m0.18387\u001B[0m    1.04211  0.77s\n",
      "      2     \u001B[36m0.18166\u001B[0m     \u001B[32m0.18241\u001B[0m    0.99589  0.77s\n",
      "      3     \u001B[36m0.18035\u001B[0m     \u001B[32m0.18143\u001B[0m    0.99405  0.96s\n",
      "      4     \u001B[36m0.17941\u001B[0m     \u001B[32m0.18067\u001B[0m    0.99303  0.91s\n",
      "      5     \u001B[36m0.17860\u001B[0m     \u001B[32m0.18007\u001B[0m    0.99183  0.99s\n",
      "      6     \u001B[36m0.17784\u001B[0m     \u001B[32m0.17954\u001B[0m    0.99054  0.87s\n",
      "      7     \u001B[36m0.17716\u001B[0m     \u001B[32m0.17910\u001B[0m    0.98915  0.94s\n",
      "      8     \u001B[36m0.17651\u001B[0m     \u001B[32m0.17870\u001B[0m    0.98777  0.97s\n",
      "      9     \u001B[36m0.17589\u001B[0m     \u001B[32m0.17835\u001B[0m    0.98625  1.01s\n",
      "     10     \u001B[36m0.17532\u001B[0m     \u001B[32m0.17801\u001B[0m    0.98488  0.96s\n",
      "     11     \u001B[36m0.17478\u001B[0m     \u001B[32m0.17782\u001B[0m    0.98287  0.91s\n",
      "     12     \u001B[36m0.17427\u001B[0m     \u001B[32m0.17758\u001B[0m    0.98133  0.81s\n",
      "     13     \u001B[36m0.17377\u001B[0m     \u001B[32m0.17730\u001B[0m    0.98012  0.89s\n",
      "     14     \u001B[36m0.17330\u001B[0m     \u001B[32m0.17707\u001B[0m    0.97872  0.88s\n",
      "     15     \u001B[36m0.17284\u001B[0m     \u001B[32m0.17676\u001B[0m    0.97783  0.81s\n",
      "     16     \u001B[36m0.17239\u001B[0m     \u001B[32m0.17653\u001B[0m    0.97652  0.88s\n",
      "     17     \u001B[36m0.17198\u001B[0m     \u001B[32m0.17630\u001B[0m    0.97549  0.95s\n",
      "     18     \u001B[36m0.17157\u001B[0m     \u001B[32m0.17611\u001B[0m    0.97423  0.89s\n",
      "     19     \u001B[36m0.17119\u001B[0m     \u001B[32m0.17588\u001B[0m    0.97331  0.84s\n",
      "     20     \u001B[36m0.17079\u001B[0m     \u001B[32m0.17565\u001B[0m    0.97238  0.86s\n",
      "     21     \u001B[36m0.17039\u001B[0m     \u001B[32m0.17542\u001B[0m    0.97135  0.87s\n",
      "     22     \u001B[36m0.17003\u001B[0m     \u001B[32m0.17522\u001B[0m    0.97039  1.15s\n",
      "     23     \u001B[36m0.16966\u001B[0m     \u001B[32m0.17495\u001B[0m    0.96978  1.00s\n",
      "     24     \u001B[36m0.16929\u001B[0m     \u001B[32m0.17467\u001B[0m    0.96916  1.04s\n",
      "     25     \u001B[36m0.16892\u001B[0m     \u001B[32m0.17445\u001B[0m    0.96831  1.05s\n",
      "     26     \u001B[36m0.16858\u001B[0m     \u001B[32m0.17421\u001B[0m    0.96768  0.83s\n",
      "     27     \u001B[36m0.16825\u001B[0m     \u001B[32m0.17402\u001B[0m    0.96685  0.82s\n",
      "     28     \u001B[36m0.16794\u001B[0m     \u001B[32m0.17385\u001B[0m    0.96602  0.95s\n",
      "     29     \u001B[36m0.16763\u001B[0m     \u001B[32m0.17363\u001B[0m    0.96544  0.97s\n",
      "     30     \u001B[36m0.16733\u001B[0m     \u001B[32m0.17349\u001B[0m    0.96450  1.01s\n",
      "     31     \u001B[36m0.16703\u001B[0m     \u001B[32m0.17331\u001B[0m    0.96378  1.05s\n",
      "     32     \u001B[36m0.16674\u001B[0m     \u001B[32m0.17311\u001B[0m    0.96320  1.03s\n",
      "     33     \u001B[36m0.16645\u001B[0m     \u001B[32m0.17300\u001B[0m    0.96215  1.26s\n",
      "     34     \u001B[36m0.16619\u001B[0m     \u001B[32m0.17281\u001B[0m    0.96167  1.16s\n",
      "     35     \u001B[36m0.16592\u001B[0m     \u001B[32m0.17266\u001B[0m    0.96093  1.12s\n",
      "     36     \u001B[36m0.16564\u001B[0m     \u001B[32m0.17249\u001B[0m    0.96026  1.12s\n",
      "     37     \u001B[36m0.16536\u001B[0m     \u001B[32m0.17234\u001B[0m    0.95947  1.15s\n",
      "     38     \u001B[36m0.16509\u001B[0m     \u001B[32m0.17223\u001B[0m    0.95853  1.08s\n",
      "     39     \u001B[36m0.16484\u001B[0m     \u001B[32m0.17205\u001B[0m    0.95812  1.18s\n",
      "     40     \u001B[36m0.16458\u001B[0m     \u001B[32m0.17190\u001B[0m    0.95745  1.14s\n",
      "     41     \u001B[36m0.16434\u001B[0m     \u001B[32m0.17178\u001B[0m    0.95670  0.86s\n",
      "     42     \u001B[36m0.16411\u001B[0m     \u001B[32m0.17163\u001B[0m    0.95623  1.07s\n",
      "     43     \u001B[36m0.16388\u001B[0m     \u001B[32m0.17152\u001B[0m    0.95545  0.97s\n",
      "     44     \u001B[36m0.16365\u001B[0m     \u001B[32m0.17139\u001B[0m    0.95481  0.87s\n",
      "     45     \u001B[36m0.16344\u001B[0m     \u001B[32m0.17131\u001B[0m    0.95404  0.86s\n",
      "     46     \u001B[36m0.16322\u001B[0m     \u001B[32m0.17119\u001B[0m    0.95345  1.09s\n",
      "     47     \u001B[36m0.16301\u001B[0m     \u001B[32m0.17108\u001B[0m    0.95283  1.10s\n",
      "     48     \u001B[36m0.16279\u001B[0m     \u001B[32m0.17099\u001B[0m    0.95204  1.01s\n",
      "     49     \u001B[36m0.16259\u001B[0m     \u001B[32m0.17094\u001B[0m    0.95118  0.93s\n",
      "     50     \u001B[36m0.16240\u001B[0m     \u001B[32m0.17089\u001B[0m    0.95034  1.15s\n",
      "train precision: 0.741640350086\n",
      "train recall: 0.789435267\n",
      "train accuracy: 0.75737129036\n",
      "test precision: 0.745958362611\n",
      "test recall: 0.744663697789\n",
      "test accuracy: 0.744663697789\n"
     ]
    },
    {
     "name": "stderr",
     "output_type": "stream",
     "text": [
      "/Users/motta/.pyenv/versions/learning-to-rank/lib/python3.5/site-packages/sklearn/metrics/classification.py:1076: UndefinedMetricWarning: Recall is ill-defined and being set to 0.0 in labels with no true samples.\n",
      "  'recall', 'true', average, warn_for)\n"
     ]
    }
   ],
   "source": [
    "model = train_model(\n",
    "    nn(), \n",
    "    get_predicted_outcome, \n",
    "    X_train.astype(np.float32), \n",
    "    y_train.astype(np.float32), \n",
    "    X_test.astype(np.float32), \n",
    "    y_test.astype(np.float32)\n",
    ")"
   ]
  },
  {
   "cell_type": "code",
   "execution_count": 101,
   "metadata": {
    "pycharm": {
     "name": "#%%\n"
    }
   },
   "outputs": [
    {
     "data": {
      "image/png": "[encoded data removed]",
      "text/plain": [
       "<matplotlib.figure.Figure at 0x10e0f7668>"
      ]
     },
     "metadata": {},
     "output_type": "display_data"
    }
   ],
   "source": [
    "plot_rank_for_pairwise(['price'], model, learning_data, get_predicted_rank)"
   ]
  },
  {
   "cell_type": "code",
   "execution_count": null,
   "metadata": {
    "collapsed": true,
    "pycharm": {
     "name": "#%%\n"
    }
   },
   "outputs": [],
   "source": []
  }
 ],
 "metadata": {
  "hide_input": false,
  "kernelspec": {
   "display_name": "Python 3",
   "language": "python",
   "name": "python3"
  },
  "language_info": {
   "codemirror_mode": {
    "name": "ipython",
    "version": 3
   },
   "file_extension": ".py",
   "mimetype": "text/x-python",
   "name": "python",
   "nbconvert_exporter": "python",
   "pygments_lexer": "ipython3",
   "version": "3.8.3"
  }
 },
 "nbformat": 4,
 "nbformat_minor": 1
}